{
 "cells": [
  {
   "cell_type": "markdown",
   "metadata": {},
   "source": [
    "<h3> Devoir 2 - a rendre le 5 Janvier 2018 </h3>\n",
    "\n",
    "Le devoir comprend 3 questions a traiter en vous inspirant (librement) du notebook ci-dessous.\n",
    "Vous pouvez egalement lire le tres bon Chapitre 2 de notre livre \"hands-on ...\" pour plus de \n",
    "perspectives et plus de details. Le notebook ci-dessous est essentiellement une simplification \n",
    "de ce chapitre adaptee a notre jeu de donnees.\n",
    "\n",
    "<ol>\n",
    "<li> \n",
    "Construire un regresseur lineaire pour predire le resultat au devoir 1 et calculer son score. On choisira environ 5 personnes dans le groupe test tire au hasard, le reste de la classe servant a fournir des donnees au regresseur.\n",
    "</li>\n",
    "<li> \n",
    "Ajouter aux attributs existants dans les donnees une combinaison d'attributs de votre choix. Vous trouverez des exemples ci-dessous. Comparer les scores du predicteur avec et sans ces (combinaisons d') attributs supplementaires.\n",
    "</li>\n",
    "<li> \n",
    "Choisir des partitions train/test qui engendrent des predicteurs differents en selectionnant un groupe test de maniere appropriee. Par exemple, on pourra imaginer que l'algorithme serve a creer les notes des etudiants absents a l'examen et essayer de maximiser ces predictions de notes. (NB: bien sur ceci est strictement a ne pas faire dans un veritable cas d'analyse de donnees!)\n",
    "</li>\n",
    "</ol>\n",
    "\n",
    "<h5>Bonifications:</h5>\n",
    "\n",
    "Pour ceux qui le desirent, des points supplementaires sont prevus pour le traitement de l'une des questions supplementaires ci-dessous.\n",
    "<ol>\n",
    "<li>\n",
    "Automatiser le traitement des donnees par des fonctions\n",
    "</li>\n",
    "<li> \n",
    "Utiliser un autre modele statistique que le regresseur lineaire\n",
    "</li>\n",
    "<li> \n",
    "Etendre les donnees: eg 1) avec les notes du cours de chimie, 2) nb d'amis facebook, 3) ...\n",
    "</li>\n",
    "<li> \n",
    "Utiliser les hyperparametres de la <a href=\"http://scikit-learn.org/stable/modules/generated/sklearn.linear_model.LinearRegression.html#sklearn.linear_model.LinearRegression\">classe LinearRegression de scikitlearn</a> pour ameliorer le modele.\n",
    "</li>\n",
    "</ol> "
   ]
  },
  {
   "cell_type": "markdown",
   "metadata": {},
   "source": [
    "<h3> NB </h3>\n",
    "\n",
    "N'oubliez pas de bien commenter votre source pour en faciliter la lecture.\n",
    "\n",
    "Utilisez le fichier de donnees disponibles sur le github (j'y ai corrige quelques aberrations du csv extrait du document google sheet).\n"
   ]
  },
  {
   "cell_type": "markdown",
   "metadata": {},
   "source": [
    "<h3> chargement des donnees </h3>"
   ]
  },
  {
   "cell_type": "code",
   "execution_count": 2,
   "metadata": {},
   "outputs": [],
   "source": [
    "# Common imports\n",
    "import numpy as np\n",
    "import os\n",
    "import pandas as pd"
   ]
  },
  {
   "cell_type": "code",
   "execution_count": 3,
   "metadata": {},
   "outputs": [],
   "source": [
    "# to make this notebook's output stable across runs\n",
    "np.random.seed(42)"
   ]
  },
  {
   "cell_type": "code",
   "execution_count": 5,
   "metadata": {},
   "outputs": [],
   "source": [
    "AZOTE_PATH = os.path.join(\"..\",\"datasets\")\n",
    "AZOTE_FILE = \"l.csv\"\n",
    "dc = pd.read_csv(os.path.join(AZOTE_PATH,AZOTE_FILE))"
   ]
  },
  {
   "cell_type": "code",
   "execution_count": 6,
   "metadata": {},
   "outputs": [
    {
     "data": {
      "text/plain": [
       "['name.familyName',\n",
       " 'name.givenName',\n",
       " 'primaryEmail',\n",
       " 'extraversion\\n0 to 9',\n",
       " 'session 1\\ntest /10',\n",
       " 'session 2\\ntest /10',\n",
       " 'session 3\\ntest /10',\n",
       " 'Ressenti \\nséances\\n2 et 3 test /4',\n",
       " 'Devoir 1\\ntest /10']"
      ]
     },
     "execution_count": 6,
     "metadata": {},
     "output_type": "execute_result"
    }
   ],
   "source": [
    "# pour obtenir la liste \"cut-and-paste ready\" des noms des colonnes\n",
    "list(dc)"
   ]
  },
  {
   "cell_type": "markdown",
   "metadata": {},
   "source": [
    "we change the names of the columns for convenience"
   ]
  },
  {
   "cell_type": "code",
   "execution_count": 7,
   "metadata": {},
   "outputs": [],
   "source": [
    "#cd.drop('primaryEmail', axis=1, inplace=True)\n",
    "dc = dc.rename(columns={\"name.familyName\":\"nom\",'name.givenName':\"prenom\",\n",
    " 'primaryEmail':\"email\",\n",
    " 'extraversion\\n0 to 9':\"ex\",\n",
    " 'session 1\\ntest /10':\"s1\",\n",
    " 'session 2\\ntest /10':\"s2\",\n",
    " 'session 3\\ntest /10':\"s3\",\n",
    " 'Ressenti \\nséances\\n2 et 3 test /4':\"r23\",\n",
    " 'Devoir 1\\ntest /10':\"d1\"})"
   ]
  },
  {
   "cell_type": "markdown",
   "metadata": {},
   "source": [
    "<h3> data visualisation </h3>"
   ]
  },
  {
   "cell_type": "code",
   "execution_count": 8,
   "metadata": {},
   "outputs": [
    {
     "data": {
      "text/plain": [
       "['nom', 'prenom', 'email', 'ex', 's1', 's2', 's3', 'r23', 'd1']"
      ]
     },
     "execution_count": 8,
     "metadata": {},
     "output_type": "execute_result"
    }
   ],
   "source": [
    "list(dc)"
   ]
  },
  {
   "cell_type": "markdown",
   "metadata": {},
   "source": [
    "la colonne \"ressenti\" a beaucoup de valeurs manquantes, but apart from that we \n",
    "are good as we can see from the info method"
   ]
  },
  {
   "cell_type": "code",
   "execution_count": 9,
   "metadata": {},
   "outputs": [
    {
     "name": "stdout",
     "output_type": "stream",
     "text": [
      "<class 'pandas.core.frame.DataFrame'>\n",
      "RangeIndex: 28 entries, 0 to 27\n",
      "Data columns (total 9 columns):\n",
      "nom       28 non-null object\n",
      "prenom    28 non-null object\n",
      "email     28 non-null object\n",
      "ex        28 non-null int64\n",
      "s1        28 non-null int64\n",
      "s2        28 non-null int64\n",
      "s3        28 non-null int64\n",
      "r23       7 non-null float64\n",
      "d1        28 non-null int64\n",
      "dtypes: float64(1), int64(5), object(3)\n",
      "memory usage: 2.0+ KB\n"
     ]
    }
   ],
   "source": [
    "dc.info()"
   ]
  },
  {
   "cell_type": "code",
   "execution_count": 10,
   "metadata": {},
   "outputs": [
    {
     "data": {
      "text/plain": [
       "3.0    4\n",
       "2.0    3\n",
       "Name: r23, dtype: int64"
      ]
     },
     "execution_count": 10,
     "metadata": {},
     "output_type": "execute_result"
    }
   ],
   "source": [
    "dc[\"r23\"].value_counts()"
   ]
  },
  {
   "cell_type": "code",
   "execution_count": 11,
   "metadata": {},
   "outputs": [
    {
     "data": {
      "text/html": [
       "<div>\n",
       "<style>\n",
       "    .dataframe thead tr:only-child th {\n",
       "        text-align: right;\n",
       "    }\n",
       "\n",
       "    .dataframe thead th {\n",
       "        text-align: left;\n",
       "    }\n",
       "\n",
       "    .dataframe tbody tr th {\n",
       "        vertical-align: top;\n",
       "    }\n",
       "</style>\n",
       "<table border=\"1\" class=\"dataframe\">\n",
       "  <thead>\n",
       "    <tr style=\"text-align: right;\">\n",
       "      <th></th>\n",
       "      <th>ex</th>\n",
       "      <th>s1</th>\n",
       "      <th>s2</th>\n",
       "      <th>s3</th>\n",
       "      <th>r23</th>\n",
       "      <th>d1</th>\n",
       "    </tr>\n",
       "  </thead>\n",
       "  <tbody>\n",
       "    <tr>\n",
       "      <th>count</th>\n",
       "      <td>28.000000</td>\n",
       "      <td>28.000000</td>\n",
       "      <td>28.000000</td>\n",
       "      <td>28.000000</td>\n",
       "      <td>7.000000</td>\n",
       "      <td>28.00000</td>\n",
       "    </tr>\n",
       "    <tr>\n",
       "      <th>mean</th>\n",
       "      <td>6.464286</td>\n",
       "      <td>5.178571</td>\n",
       "      <td>5.107143</td>\n",
       "      <td>6.857143</td>\n",
       "      <td>2.571429</td>\n",
       "      <td>8.50000</td>\n",
       "    </tr>\n",
       "    <tr>\n",
       "      <th>std</th>\n",
       "      <td>1.643892</td>\n",
       "      <td>2.037674</td>\n",
       "      <td>1.872595</td>\n",
       "      <td>1.432798</td>\n",
       "      <td>0.534522</td>\n",
       "      <td>0.96225</td>\n",
       "    </tr>\n",
       "    <tr>\n",
       "      <th>min</th>\n",
       "      <td>3.000000</td>\n",
       "      <td>1.000000</td>\n",
       "      <td>0.000000</td>\n",
       "      <td>4.000000</td>\n",
       "      <td>2.000000</td>\n",
       "      <td>6.00000</td>\n",
       "    </tr>\n",
       "    <tr>\n",
       "      <th>25%</th>\n",
       "      <td>5.750000</td>\n",
       "      <td>3.750000</td>\n",
       "      <td>4.000000</td>\n",
       "      <td>6.000000</td>\n",
       "      <td>2.000000</td>\n",
       "      <td>8.00000</td>\n",
       "    </tr>\n",
       "    <tr>\n",
       "      <th>50%</th>\n",
       "      <td>6.500000</td>\n",
       "      <td>5.500000</td>\n",
       "      <td>5.000000</td>\n",
       "      <td>7.000000</td>\n",
       "      <td>3.000000</td>\n",
       "      <td>8.50000</td>\n",
       "    </tr>\n",
       "    <tr>\n",
       "      <th>75%</th>\n",
       "      <td>8.000000</td>\n",
       "      <td>7.000000</td>\n",
       "      <td>6.000000</td>\n",
       "      <td>8.000000</td>\n",
       "      <td>3.000000</td>\n",
       "      <td>9.00000</td>\n",
       "    </tr>\n",
       "    <tr>\n",
       "      <th>max</th>\n",
       "      <td>10.000000</td>\n",
       "      <td>8.000000</td>\n",
       "      <td>8.000000</td>\n",
       "      <td>10.000000</td>\n",
       "      <td>3.000000</td>\n",
       "      <td>10.00000</td>\n",
       "    </tr>\n",
       "  </tbody>\n",
       "</table>\n",
       "</div>"
      ],
      "text/plain": [
       "              ex         s1         s2         s3       r23        d1\n",
       "count  28.000000  28.000000  28.000000  28.000000  7.000000  28.00000\n",
       "mean    6.464286   5.178571   5.107143   6.857143  2.571429   8.50000\n",
       "std     1.643892   2.037674   1.872595   1.432798  0.534522   0.96225\n",
       "min     3.000000   1.000000   0.000000   4.000000  2.000000   6.00000\n",
       "25%     5.750000   3.750000   4.000000   6.000000  2.000000   8.00000\n",
       "50%     6.500000   5.500000   5.000000   7.000000  3.000000   8.50000\n",
       "75%     8.000000   7.000000   6.000000   8.000000  3.000000   9.00000\n",
       "max    10.000000   8.000000   8.000000  10.000000  3.000000  10.00000"
      ]
     },
     "execution_count": 11,
     "metadata": {},
     "output_type": "execute_result"
    }
   ],
   "source": [
    "dc.describe()"
   ]
  },
  {
   "cell_type": "code",
   "execution_count": 12,
   "metadata": {},
   "outputs": [
    {
     "data": {
      "text/plain": [
       "d1     1.000000\n",
       "s3     0.349226\n",
       "s2     0.298038\n",
       "s1     0.292782\n",
       "ex     0.011707\n",
       "r23   -0.416667\n",
       "Name: d1, dtype: float64"
      ]
     },
     "execution_count": 12,
     "metadata": {},
     "output_type": "execute_result"
    }
   ],
   "source": [
    "correlation_total = dc.corr()\n",
    "correlation_total[\"d1\"].sort_values(ascending=False)"
   ]
  },
  {
   "cell_type": "code",
   "execution_count": 13,
   "metadata": {},
   "outputs": [
    {
     "data": {
      "text/html": [
       "<div>\n",
       "<style>\n",
       "    .dataframe thead tr:only-child th {\n",
       "        text-align: right;\n",
       "    }\n",
       "\n",
       "    .dataframe thead th {\n",
       "        text-align: left;\n",
       "    }\n",
       "\n",
       "    .dataframe tbody tr th {\n",
       "        vertical-align: top;\n",
       "    }\n",
       "</style>\n",
       "<table border=\"1\" class=\"dataframe\">\n",
       "  <thead>\n",
       "    <tr style=\"text-align: right;\">\n",
       "      <th></th>\n",
       "      <th>nom</th>\n",
       "      <th>prenom</th>\n",
       "      <th>email</th>\n",
       "      <th>ex</th>\n",
       "      <th>s1</th>\n",
       "      <th>s2</th>\n",
       "      <th>s3</th>\n",
       "      <th>r23</th>\n",
       "      <th>d1</th>\n",
       "    </tr>\n",
       "  </thead>\n",
       "  <tbody>\n",
       "    <tr>\n",
       "      <th>0</th>\n",
       "      <td>ARNAUD BOISSEL</td>\n",
       "      <td>Candice</td>\n",
       "      <td>candice.arnaudboissel@students.cri-paris.org</td>\n",
       "      <td>6</td>\n",
       "      <td>3</td>\n",
       "      <td>0</td>\n",
       "      <td>5</td>\n",
       "      <td>2.0</td>\n",
       "      <td>8</td>\n",
       "    </tr>\n",
       "    <tr>\n",
       "      <th>1</th>\n",
       "      <td>BACCAINI</td>\n",
       "      <td>Lucien</td>\n",
       "      <td>lucien.baccaini@students.cri-paris.org</td>\n",
       "      <td>8</td>\n",
       "      <td>7</td>\n",
       "      <td>6</td>\n",
       "      <td>8</td>\n",
       "      <td>NaN</td>\n",
       "      <td>8</td>\n",
       "    </tr>\n",
       "    <tr>\n",
       "      <th>2</th>\n",
       "      <td>BALY</td>\n",
       "      <td>Antoinette</td>\n",
       "      <td>antoine.baly@students.cri-paris.org</td>\n",
       "      <td>8</td>\n",
       "      <td>5</td>\n",
       "      <td>5</td>\n",
       "      <td>6</td>\n",
       "      <td>2.0</td>\n",
       "      <td>9</td>\n",
       "    </tr>\n",
       "    <tr>\n",
       "      <th>3</th>\n",
       "      <td>BELLENGIER</td>\n",
       "      <td>Juliette</td>\n",
       "      <td>juliette.bellengier@students.cri-paris.org</td>\n",
       "      <td>7</td>\n",
       "      <td>6</td>\n",
       "      <td>6</td>\n",
       "      <td>7</td>\n",
       "      <td>NaN</td>\n",
       "      <td>8</td>\n",
       "    </tr>\n",
       "    <tr>\n",
       "      <th>4</th>\n",
       "      <td>BEN ALI</td>\n",
       "      <td>Raja</td>\n",
       "      <td>raja.benali@students.cri-paris.org</td>\n",
       "      <td>6</td>\n",
       "      <td>8</td>\n",
       "      <td>6</td>\n",
       "      <td>10</td>\n",
       "      <td>NaN</td>\n",
       "      <td>10</td>\n",
       "    </tr>\n",
       "  </tbody>\n",
       "</table>\n",
       "</div>"
      ],
      "text/plain": [
       "              nom      prenom                                         email  \\\n",
       "0  ARNAUD BOISSEL     Candice  candice.arnaudboissel@students.cri-paris.org   \n",
       "1        BACCAINI      Lucien        lucien.baccaini@students.cri-paris.org   \n",
       "2            BALY  Antoinette           antoine.baly@students.cri-paris.org   \n",
       "3      BELLENGIER    Juliette    juliette.bellengier@students.cri-paris.org   \n",
       "4         BEN ALI        Raja            raja.benali@students.cri-paris.org   \n",
       "\n",
       "   ex  s1  s2  s3  r23  d1  \n",
       "0   6   3   0   5  2.0   8  \n",
       "1   8   7   6   8  NaN   8  \n",
       "2   8   5   5   6  2.0   9  \n",
       "3   7   6   6   7  NaN   8  \n",
       "4   6   8   6  10  NaN  10  "
      ]
     },
     "execution_count": 13,
     "metadata": {},
     "output_type": "execute_result"
    }
   ],
   "source": [
    "dc.head()"
   ]
  },
  {
   "cell_type": "markdown",
   "metadata": {},
   "source": [
    "<h3> separation des donnees </h3>"
   ]
  },
  {
   "cell_type": "markdown",
   "metadata": {},
   "source": [
    "On separe nos donnees en deux: 1) un ensemble de donnees d'apprentissage a utiliser tout de suite et 2) un ensemble de donnees auxquelles on ne touche plus et qui vont nous servir a tester notre \"predicteur\" lorsque celui-ci sera construit"
   ]
  },
  {
   "cell_type": "code",
   "execution_count": 14,
   "metadata": {},
   "outputs": [],
   "source": [
    "# Sklearn has train_test_split()\n",
    "def split_train_test(data, test_ratio):\n",
    "    shuffled_indices = np.random.permutation(len(data))\n",
    "    test_set_size = int(len(data) * test_ratio)\n",
    "    test_indices = shuffled_indices[:test_set_size]\n",
    "    train_indices = shuffled_indices[test_set_size:]\n",
    "    return data.iloc[train_indices], data.iloc[test_indices]"
   ]
  },
  {
   "cell_type": "code",
   "execution_count": 15,
   "metadata": {},
   "outputs": [
    {
     "name": "stdout",
     "output_type": "stream",
     "text": [
      "23 train + 5 test\n"
     ]
    }
   ],
   "source": [
    "tr_c, tt_c = split_train_test(dc,0.2) # 20% des donnees sont rangees a part\n",
    "print(len(tr_c), \"train +\", len(tt_c), \"test\")"
   ]
  },
  {
   "cell_type": "code",
   "execution_count": 16,
   "metadata": {},
   "outputs": [
    {
     "data": {
      "text/html": [
       "<div>\n",
       "<style>\n",
       "    .dataframe thead tr:only-child th {\n",
       "        text-align: right;\n",
       "    }\n",
       "\n",
       "    .dataframe thead th {\n",
       "        text-align: left;\n",
       "    }\n",
       "\n",
       "    .dataframe tbody tr th {\n",
       "        vertical-align: top;\n",
       "    }\n",
       "</style>\n",
       "<table border=\"1\" class=\"dataframe\">\n",
       "  <thead>\n",
       "    <tr style=\"text-align: right;\">\n",
       "      <th></th>\n",
       "      <th>nom</th>\n",
       "      <th>prenom</th>\n",
       "      <th>email</th>\n",
       "      <th>ex</th>\n",
       "      <th>s1</th>\n",
       "      <th>s2</th>\n",
       "      <th>s3</th>\n",
       "      <th>r23</th>\n",
       "      <th>d1</th>\n",
       "    </tr>\n",
       "  </thead>\n",
       "  <tbody>\n",
       "    <tr>\n",
       "      <th>12</th>\n",
       "      <td>HENNEBICQ</td>\n",
       "      <td>Léa</td>\n",
       "      <td>lea.hennebicq@students.cri-paris.org</td>\n",
       "      <td>8</td>\n",
       "      <td>4</td>\n",
       "      <td>3</td>\n",
       "      <td>4</td>\n",
       "      <td>NaN</td>\n",
       "      <td>8</td>\n",
       "    </tr>\n",
       "    <tr>\n",
       "      <th>17</th>\n",
       "      <td>PICARDAT</td>\n",
       "      <td>Zoé</td>\n",
       "      <td>zoe.picardat@students.cri-paris.org</td>\n",
       "      <td>6</td>\n",
       "      <td>6</td>\n",
       "      <td>6</td>\n",
       "      <td>9</td>\n",
       "      <td>NaN</td>\n",
       "      <td>9</td>\n",
       "    </tr>\n",
       "  </tbody>\n",
       "</table>\n",
       "</div>"
      ],
      "text/plain": [
       "          nom prenom                                 email  ex  s1  s2  s3  \\\n",
       "12  HENNEBICQ    Léa  lea.hennebicq@students.cri-paris.org   8   4   3   4   \n",
       "17   PICARDAT    Zoé   zoe.picardat@students.cri-paris.org   6   6   6   9   \n",
       "\n",
       "    r23  d1  \n",
       "12  NaN   8  \n",
       "17  NaN   9  "
      ]
     },
     "execution_count": 16,
     "metadata": {},
     "output_type": "execute_result"
    }
   ],
   "source": [
    "tr_c.head(2)"
   ]
  },
  {
   "cell_type": "code",
   "execution_count": 17,
   "metadata": {},
   "outputs": [
    {
     "data": {
      "text/html": [
       "<div>\n",
       "<style>\n",
       "    .dataframe thead tr:only-child th {\n",
       "        text-align: right;\n",
       "    }\n",
       "\n",
       "    .dataframe thead th {\n",
       "        text-align: left;\n",
       "    }\n",
       "\n",
       "    .dataframe tbody tr th {\n",
       "        vertical-align: top;\n",
       "    }\n",
       "</style>\n",
       "<table border=\"1\" class=\"dataframe\">\n",
       "  <thead>\n",
       "    <tr style=\"text-align: right;\">\n",
       "      <th></th>\n",
       "      <th>nom</th>\n",
       "      <th>prenom</th>\n",
       "      <th>email</th>\n",
       "      <th>ex</th>\n",
       "      <th>s1</th>\n",
       "      <th>s2</th>\n",
       "      <th>s3</th>\n",
       "      <th>r23</th>\n",
       "      <th>d1</th>\n",
       "    </tr>\n",
       "  </thead>\n",
       "  <tbody>\n",
       "    <tr>\n",
       "      <th>9</th>\n",
       "      <td>GASTINEL</td>\n",
       "      <td>Salomé</td>\n",
       "      <td>salome.gastinel@students.cri-paris.org</td>\n",
       "      <td>4</td>\n",
       "      <td>3</td>\n",
       "      <td>3</td>\n",
       "      <td>7</td>\n",
       "      <td>NaN</td>\n",
       "      <td>8</td>\n",
       "    </tr>\n",
       "    <tr>\n",
       "      <th>25</th>\n",
       "      <td>Vercambre</td>\n",
       "      <td>Julia</td>\n",
       "      <td>julia.vercambre@students.cri-paris.org</td>\n",
       "      <td>7</td>\n",
       "      <td>8</td>\n",
       "      <td>7</td>\n",
       "      <td>7</td>\n",
       "      <td>NaN</td>\n",
       "      <td>10</td>\n",
       "    </tr>\n",
       "    <tr>\n",
       "      <th>8</th>\n",
       "      <td>DAGNOGO</td>\n",
       "      <td>Maelle</td>\n",
       "      <td>maelle.dagnogo@students.cri-paris.org</td>\n",
       "      <td>7</td>\n",
       "      <td>4</td>\n",
       "      <td>3</td>\n",
       "      <td>7</td>\n",
       "      <td>NaN</td>\n",
       "      <td>7</td>\n",
       "    </tr>\n",
       "  </tbody>\n",
       "</table>\n",
       "</div>"
      ],
      "text/plain": [
       "          nom  prenom                                   email  ex  s1  s2  s3  \\\n",
       "9    GASTINEL  Salomé  salome.gastinel@students.cri-paris.org   4   3   3   7   \n",
       "25  Vercambre   Julia  julia.vercambre@students.cri-paris.org   7   8   7   7   \n",
       "8     DAGNOGO  Maelle   maelle.dagnogo@students.cri-paris.org   7   4   3   7   \n",
       "\n",
       "    r23  d1  \n",
       "9   NaN   8  \n",
       "25  NaN  10  \n",
       "8   NaN   7  "
      ]
     },
     "execution_count": 17,
     "metadata": {},
     "output_type": "execute_result"
    }
   ],
   "source": [
    "tt_c.head(3)"
   ]
  },
  {
   "cell_type": "markdown",
   "metadata": {},
   "source": [
    "<h3> recherche de signaux </h3>"
   ]
  },
  {
   "cell_type": "markdown",
   "metadata": {},
   "source": [
    "correlations - on cherche un \"signal\" qui contient de l'information sur d1"
   ]
  },
  {
   "cell_type": "code",
   "execution_count": 18,
   "metadata": {
    "scrolled": true
   },
   "outputs": [],
   "source": [
    "corr_matrix = tr_c.corr()\n",
    "#print(corr_matrix)"
   ]
  },
  {
   "cell_type": "code",
   "execution_count": 19,
   "metadata": {},
   "outputs": [
    {
     "data": {
      "text/plain": [
       "d1     1.000000\n",
       "s3     0.394334\n",
       "s2     0.169119\n",
       "s1     0.115399\n",
       "ex    -0.096976\n",
       "r23   -0.707107\n",
       "Name: d1, dtype: float64"
      ]
     },
     "execution_count": 19,
     "metadata": {},
     "output_type": "execute_result"
    }
   ],
   "source": [
    "corr_matrix[\"d1\"].sort_values(ascending=False)"
   ]
  },
  {
   "cell_type": "markdown",
   "metadata": {},
   "source": [
    "ah-ah les bavards sont legerement negativement correles a la note au devoir 1 :)\n",
    "que devons-nous penser de la correlation de r23??"
   ]
  },
  {
   "cell_type": "markdown",
   "metadata": {},
   "source": [
    "tentative de recombinaison des attributs pour trouver des signaux additionnels"
   ]
  },
  {
   "cell_type": "code",
   "execution_count": 20,
   "metadata": {},
   "outputs": [],
   "source": [
    "# abreviations commodes\n",
    "tr_ex, tt_ex = tr_c[\"ex\"], tt_c[\"ex\"]\n",
    "tr_s1, tt_s1 = tr_c[\"s1\"], tt_c[\"s1\"]\n",
    "tr_s2, tt_s2 = tr_c[\"s2\"], tt_c[\"s2\"]\n",
    "tr_s3, tt_s3 = tr_c[\"s3\"], tt_c[\"s3\"]"
   ]
  },
  {
   "cell_type": "markdown",
   "metadata": {},
   "source": [
    "on ajoute les nouveaux attributs comme de nouvelles colonnes"
   ]
  },
  {
   "cell_type": "code",
   "execution_count": 21,
   "metadata": {},
   "outputs": [],
   "source": [
    "# caveat: assign retourne une nouvelle matrice \n",
    "# http://pandas.pydata.org/pandas-docs/stable/generated/pandas.DataFrame.assign.html\n",
    "tr_c = tr_c.assign(s21=tr_s2-tr_s1,s32=tr_s3-tr_s2,s31=tr_s3-tr_s1,exx= 5 * tr_ex)\n",
    "tt_c = tt_c.assign(s21=tt_s2-tt_s1,s32=tt_s3-tt_s2,s31=tt_s3-tt_s1,exx= 5 * tt_ex)"
   ]
  },
  {
   "cell_type": "code",
   "execution_count": 22,
   "metadata": {},
   "outputs": [
    {
     "data": {
      "text/html": [
       "<div>\n",
       "<style>\n",
       "    .dataframe thead tr:only-child th {\n",
       "        text-align: right;\n",
       "    }\n",
       "\n",
       "    .dataframe thead th {\n",
       "        text-align: left;\n",
       "    }\n",
       "\n",
       "    .dataframe tbody tr th {\n",
       "        vertical-align: top;\n",
       "    }\n",
       "</style>\n",
       "<table border=\"1\" class=\"dataframe\">\n",
       "  <thead>\n",
       "    <tr style=\"text-align: right;\">\n",
       "      <th></th>\n",
       "      <th>nom</th>\n",
       "      <th>prenom</th>\n",
       "      <th>email</th>\n",
       "      <th>ex</th>\n",
       "      <th>s1</th>\n",
       "      <th>s2</th>\n",
       "      <th>s3</th>\n",
       "      <th>r23</th>\n",
       "      <th>d1</th>\n",
       "      <th>exx</th>\n",
       "      <th>s21</th>\n",
       "      <th>s31</th>\n",
       "      <th>s32</th>\n",
       "    </tr>\n",
       "  </thead>\n",
       "  <tbody>\n",
       "    <tr>\n",
       "      <th>12</th>\n",
       "      <td>HENNEBICQ</td>\n",
       "      <td>Léa</td>\n",
       "      <td>lea.hennebicq@students.cri-paris.org</td>\n",
       "      <td>8</td>\n",
       "      <td>4</td>\n",
       "      <td>3</td>\n",
       "      <td>4</td>\n",
       "      <td>NaN</td>\n",
       "      <td>8</td>\n",
       "      <td>40</td>\n",
       "      <td>-1</td>\n",
       "      <td>0</td>\n",
       "      <td>1</td>\n",
       "    </tr>\n",
       "    <tr>\n",
       "      <th>17</th>\n",
       "      <td>PICARDAT</td>\n",
       "      <td>Zoé</td>\n",
       "      <td>zoe.picardat@students.cri-paris.org</td>\n",
       "      <td>6</td>\n",
       "      <td>6</td>\n",
       "      <td>6</td>\n",
       "      <td>9</td>\n",
       "      <td>NaN</td>\n",
       "      <td>9</td>\n",
       "      <td>30</td>\n",
       "      <td>0</td>\n",
       "      <td>3</td>\n",
       "      <td>3</td>\n",
       "    </tr>\n",
       "  </tbody>\n",
       "</table>\n",
       "</div>"
      ],
      "text/plain": [
       "          nom prenom                                 email  ex  s1  s2  s3  \\\n",
       "12  HENNEBICQ    Léa  lea.hennebicq@students.cri-paris.org   8   4   3   4   \n",
       "17   PICARDAT    Zoé   zoe.picardat@students.cri-paris.org   6   6   6   9   \n",
       "\n",
       "    r23  d1  exx  s21  s31  s32  \n",
       "12  NaN   8   40   -1    0    1  \n",
       "17  NaN   9   30    0    3    3  "
      ]
     },
     "execution_count": 22,
     "metadata": {},
     "output_type": "execute_result"
    }
   ],
   "source": [
    "tr_c.head(2)"
   ]
  },
  {
   "cell_type": "code",
   "execution_count": 23,
   "metadata": {},
   "outputs": [
    {
     "data": {
      "text/html": [
       "<div>\n",
       "<style>\n",
       "    .dataframe thead tr:only-child th {\n",
       "        text-align: right;\n",
       "    }\n",
       "\n",
       "    .dataframe thead th {\n",
       "        text-align: left;\n",
       "    }\n",
       "\n",
       "    .dataframe tbody tr th {\n",
       "        vertical-align: top;\n",
       "    }\n",
       "</style>\n",
       "<table border=\"1\" class=\"dataframe\">\n",
       "  <thead>\n",
       "    <tr style=\"text-align: right;\">\n",
       "      <th></th>\n",
       "      <th>nom</th>\n",
       "      <th>prenom</th>\n",
       "      <th>email</th>\n",
       "      <th>ex</th>\n",
       "      <th>s1</th>\n",
       "      <th>s2</th>\n",
       "      <th>s3</th>\n",
       "      <th>r23</th>\n",
       "      <th>d1</th>\n",
       "      <th>exx</th>\n",
       "      <th>s21</th>\n",
       "      <th>s31</th>\n",
       "      <th>s32</th>\n",
       "    </tr>\n",
       "  </thead>\n",
       "  <tbody>\n",
       "    <tr>\n",
       "      <th>9</th>\n",
       "      <td>GASTINEL</td>\n",
       "      <td>Salomé</td>\n",
       "      <td>salome.gastinel@students.cri-paris.org</td>\n",
       "      <td>4</td>\n",
       "      <td>3</td>\n",
       "      <td>3</td>\n",
       "      <td>7</td>\n",
       "      <td>NaN</td>\n",
       "      <td>8</td>\n",
       "      <td>20</td>\n",
       "      <td>0</td>\n",
       "      <td>4</td>\n",
       "      <td>4</td>\n",
       "    </tr>\n",
       "    <tr>\n",
       "      <th>25</th>\n",
       "      <td>Vercambre</td>\n",
       "      <td>Julia</td>\n",
       "      <td>julia.vercambre@students.cri-paris.org</td>\n",
       "      <td>7</td>\n",
       "      <td>8</td>\n",
       "      <td>7</td>\n",
       "      <td>7</td>\n",
       "      <td>NaN</td>\n",
       "      <td>10</td>\n",
       "      <td>35</td>\n",
       "      <td>-1</td>\n",
       "      <td>-1</td>\n",
       "      <td>0</td>\n",
       "    </tr>\n",
       "    <tr>\n",
       "      <th>8</th>\n",
       "      <td>DAGNOGO</td>\n",
       "      <td>Maelle</td>\n",
       "      <td>maelle.dagnogo@students.cri-paris.org</td>\n",
       "      <td>7</td>\n",
       "      <td>4</td>\n",
       "      <td>3</td>\n",
       "      <td>7</td>\n",
       "      <td>NaN</td>\n",
       "      <td>7</td>\n",
       "      <td>35</td>\n",
       "      <td>-1</td>\n",
       "      <td>3</td>\n",
       "      <td>4</td>\n",
       "    </tr>\n",
       "    <tr>\n",
       "      <th>21</th>\n",
       "      <td>SUDRE-ROUFFAUX</td>\n",
       "      <td>Louisa</td>\n",
       "      <td>louisa.sudre-rouffaux@students.cri-paris.org</td>\n",
       "      <td>8</td>\n",
       "      <td>7</td>\n",
       "      <td>5</td>\n",
       "      <td>7</td>\n",
       "      <td>NaN</td>\n",
       "      <td>10</td>\n",
       "      <td>40</td>\n",
       "      <td>-2</td>\n",
       "      <td>0</td>\n",
       "      <td>2</td>\n",
       "    </tr>\n",
       "    <tr>\n",
       "      <th>0</th>\n",
       "      <td>ARNAUD BOISSEL</td>\n",
       "      <td>Candice</td>\n",
       "      <td>candice.arnaudboissel@students.cri-paris.org</td>\n",
       "      <td>6</td>\n",
       "      <td>3</td>\n",
       "      <td>0</td>\n",
       "      <td>5</td>\n",
       "      <td>2.0</td>\n",
       "      <td>8</td>\n",
       "      <td>30</td>\n",
       "      <td>-3</td>\n",
       "      <td>2</td>\n",
       "      <td>5</td>\n",
       "    </tr>\n",
       "  </tbody>\n",
       "</table>\n",
       "</div>"
      ],
      "text/plain": [
       "               nom   prenom                                          email  \\\n",
       "9         GASTINEL   Salomé         salome.gastinel@students.cri-paris.org   \n",
       "25       Vercambre    Julia         julia.vercambre@students.cri-paris.org   \n",
       "8          DAGNOGO   Maelle          maelle.dagnogo@students.cri-paris.org   \n",
       "21  SUDRE-ROUFFAUX   Louisa  louisa.sudre-rouffaux@students.cri-paris.org    \n",
       "0   ARNAUD BOISSEL  Candice   candice.arnaudboissel@students.cri-paris.org   \n",
       "\n",
       "    ex  s1  s2  s3  r23  d1  exx  s21  s31  s32  \n",
       "9    4   3   3   7  NaN   8   20    0    4    4  \n",
       "25   7   8   7   7  NaN  10   35   -1   -1    0  \n",
       "8    7   4   3   7  NaN   7   35   -1    3    4  \n",
       "21   8   7   5   7  NaN  10   40   -2    0    2  \n",
       "0    6   3   0   5  2.0   8   30   -3    2    5  "
      ]
     },
     "execution_count": 23,
     "metadata": {},
     "output_type": "execute_result"
    }
   ],
   "source": [
    "tt_c.head(5)"
   ]
  },
  {
   "cell_type": "code",
   "execution_count": 24,
   "metadata": {},
   "outputs": [
    {
     "data": {
      "text/plain": [
       "d1     1.000000\n",
       "s3     0.394334\n",
       "s32    0.186333\n",
       "s2     0.169119\n",
       "s31    0.151349\n",
       "s1     0.115399\n",
       "s21    0.020058\n",
       "exx   -0.096976\n",
       "ex    -0.096976\n",
       "r23   -0.707107\n",
       "Name: d1, dtype: float64"
      ]
     },
     "execution_count": 24,
     "metadata": {},
     "output_type": "execute_result"
    }
   ],
   "source": [
    "# on calcule les nouvelles correlations avec d1\n",
    "corr_matrix_2 = tr_c.corr()\n",
    "corr_matrix_2[\"d1\"].sort_values(ascending=False)"
   ]
  },
  {
   "cell_type": "markdown",
   "metadata": {},
   "source": [
    "Que remarque-t-on? 1) exx a exactement la meme information que ex; c'est l'effet de la normalisation des correlations; 2) voit-on une nouvelle observable interessante?"
   ]
  },
  {
   "cell_type": "markdown",
   "metadata": {},
   "source": [
    "<h3> Prepare data for Learning </h3>"
   ]
  },
  {
   "cell_type": "code",
   "execution_count": 25,
   "metadata": {},
   "outputs": [],
   "source": [
    "tr_c_labels, tt_c_labels = tr_c['d1'], tt_c['d1']"
   ]
  },
  {
   "cell_type": "code",
   "execution_count": 26,
   "metadata": {},
   "outputs": [],
   "source": [
    "tr_c_no_label = tr_c.drop('d1',axis=1) # drop labels for training set - drop creates a *copy*\n",
    "tt_c_no_label = tt_c.drop('d1',axis=1)"
   ]
  },
  {
   "cell_type": "code",
   "execution_count": 27,
   "metadata": {},
   "outputs": [
    {
     "name": "stdout",
     "output_type": "stream",
     "text": [
      " ['nom', 'prenom', 'email', 'ex', 's1', 's2', 's3', 'r23', 'exx', 's21', 's31', 's32'] \n",
      " ['nom', 'prenom', 'email', 'ex', 's1', 's2', 's3', 'r23', 'exx', 's21', 's31', 's32']\n"
     ]
    }
   ],
   "source": [
    "print(\"\",list(tr_c_no_label),\"\\n\",list(tt_c_no_label))"
   ]
  },
  {
   "cell_type": "markdown",
   "metadata": {},
   "source": [
    "traitement des donnees incompletes - we make up values for the missing ones (in r23)!"
   ]
  },
  {
   "cell_type": "code",
   "execution_count": 28,
   "metadata": {},
   "outputs": [
    {
     "name": "stdout",
     "output_type": "stream",
     "text": [
      " ['ex', 's1', 's2', 's3', 'r23', 'exx', 's21', 's31', 's32'] \n",
      " ['ex', 's1', 's2', 's3', 'r23', 'exx', 's21', 's31', 's32']\n"
     ]
    }
   ],
   "source": [
    "# first we need to drop non numerical columns\n",
    "tr_c_no_label_num = tr_c_no_label.drop(['nom', 'prenom', 'email'],axis=1)\n",
    "tt_c_no_label_num = tt_c_no_label.drop(['nom', 'prenom', 'email'],axis=1)\n",
    "print(\"\",list(tr_c_no_label_num),\"\\n\",list(tt_c_no_label_num))"
   ]
  },
  {
   "cell_type": "code",
   "execution_count": 29,
   "metadata": {},
   "outputs": [
    {
     "name": "stdout",
     "output_type": "stream",
     "text": [
      "<class 'pandas.core.frame.DataFrame'>\n",
      "Int64Index: 23 entries, 12 to 6\n",
      "Data columns (total 9 columns):\n",
      "ex     23 non-null int64\n",
      "s1     23 non-null int64\n",
      "s2     23 non-null int64\n",
      "s3     23 non-null int64\n",
      "r23    6 non-null float64\n",
      "exx    23 non-null int64\n",
      "s21    23 non-null int64\n",
      "s31    23 non-null int64\n",
      "s32    23 non-null int64\n",
      "dtypes: float64(1), int64(8)\n",
      "memory usage: 1.8 KB\n"
     ]
    }
   ],
   "source": [
    "tr_c_no_label_num.info()"
   ]
  },
  {
   "cell_type": "code",
   "execution_count": 30,
   "metadata": {},
   "outputs": [
    {
     "name": "stdout",
     "output_type": "stream",
     "text": [
      "<class 'pandas.core.frame.DataFrame'>\n",
      "Int64Index: 5 entries, 9 to 0\n",
      "Data columns (total 9 columns):\n",
      "ex     5 non-null int64\n",
      "s1     5 non-null int64\n",
      "s2     5 non-null int64\n",
      "s3     5 non-null int64\n",
      "r23    1 non-null float64\n",
      "exx    5 non-null int64\n",
      "s21    5 non-null int64\n",
      "s31    5 non-null int64\n",
      "s32    5 non-null int64\n",
      "dtypes: float64(1), int64(8)\n",
      "memory usage: 400.0 bytes\n"
     ]
    }
   ],
   "source": [
    "tt_c_no_label_num.info()"
   ]
  },
  {
   "cell_type": "markdown",
   "metadata": {},
   "source": [
    "Check that this is the same as manually computing the median of each attribute:"
   ]
  },
  {
   "cell_type": "code",
   "execution_count": 31,
   "metadata": {},
   "outputs": [
    {
     "data": {
      "text/plain": [
       "ex      6.0\n",
       "s1      6.0\n",
       "s2      6.0\n",
       "s3      7.0\n",
       "r23     3.0\n",
       "exx    30.0\n",
       "s21     0.0\n",
       "s31     1.0\n",
       "s32     1.0\n",
       "dtype: float64"
      ]
     },
     "execution_count": 31,
     "metadata": {},
     "output_type": "execute_result"
    }
   ],
   "source": [
    "tr_c_no_label_num.median()"
   ]
  },
  {
   "cell_type": "code",
   "execution_count": 32,
   "metadata": {},
   "outputs": [
    {
     "data": {
      "text/plain": [
       "12    NaN\n",
       "17    NaN\n",
       "22    3.0\n",
       "11    NaN\n",
       "13    2.0\n",
       "15    NaN\n",
       "1     NaN\n",
       "4     NaN\n",
       "5     NaN\n",
       "2     2.0\n",
       "16    NaN\n",
       "23    NaN\n",
       "3     NaN\n",
       "26    NaN\n",
       "24    NaN\n",
       "18    NaN\n",
       "27    NaN\n",
       "20    3.0\n",
       "7     NaN\n",
       "10    NaN\n",
       "14    NaN\n",
       "19    3.0\n",
       "6     3.0\n",
       "Name: r23, dtype: float64"
      ]
     },
     "execution_count": 32,
     "metadata": {},
     "output_type": "execute_result"
    }
   ],
   "source": [
    "tr_c_no_label_num['r23']"
   ]
  },
  {
   "cell_type": "code",
   "execution_count": 33,
   "metadata": {},
   "outputs": [
    {
     "data": {
      "text/plain": [
       "9     NaN\n",
       "25    NaN\n",
       "8     NaN\n",
       "21    NaN\n",
       "0     2.0\n",
       "Name: r23, dtype: float64"
      ]
     },
     "execution_count": 33,
     "metadata": {},
     "output_type": "execute_result"
    }
   ],
   "source": [
    "tt_c_no_label_num['r23']"
   ]
  },
  {
   "cell_type": "markdown",
   "metadata": {},
   "source": [
    "Because of all the NaNs we need to transform the training set before learning - to this effect, we use a primitive from scikitlearn to deal with bad/missing values (NaN's); read this to see why it is important \n",
    "http://scikit-learn.org/stable/modules/preprocessing.html#imputation"
   ]
  },
  {
   "cell_type": "code",
   "execution_count": 34,
   "metadata": {},
   "outputs": [],
   "source": [
    "from sklearn.preprocessing import Imputer\n",
    "imp = Imputer(missing_values=\"NaN\",strategy=\"median\")"
   ]
  },
  {
   "cell_type": "markdown",
   "metadata": {},
   "source": [
    "\"fit\" is learning what to replace NaNs' with - here the medians\n",
    "see hands-on \"chapter 2/Data Cleaning\""
   ]
  },
  {
   "cell_type": "code",
   "execution_count": 35,
   "metadata": {},
   "outputs": [
    {
     "data": {
      "text/plain": [
       "Imputer(axis=0, copy=True, missing_values='NaN', strategy='median', verbose=0)"
      ]
     },
     "execution_count": 35,
     "metadata": {},
     "output_type": "execute_result"
    }
   ],
   "source": [
    "imp.fit(tr_c_no_label_num)"
   ]
  },
  {
   "cell_type": "markdown",
   "metadata": {},
   "source": [
    "accessible like so:"
   ]
  },
  {
   "cell_type": "code",
   "execution_count": 66,
   "metadata": {},
   "outputs": [
    {
     "data": {
      "text/plain": [
       "[6.0, 6.0, 6.0, 7.0, 3.0, 30.0, 0.0, 1.0, 1.0]"
      ]
     },
     "execution_count": 66,
     "metadata": {},
     "output_type": "execute_result"
    }
   ],
   "source": [
    "list(imp.statistics_)"
   ]
  },
  {
   "cell_type": "code",
   "execution_count": 1,
   "metadata": {},
   "outputs": [],
   "source": [
    "def ppa(array,num=10):\n",
    "    b = min(num,len(array))\n",
    "    for i in range(0,b):\n",
    "        print(array[i])"
   ]
  },
  {
   "cell_type": "code",
   "execution_count": 37,
   "metadata": {},
   "outputs": [
    {
     "name": "stdout",
     "output_type": "stream",
     "text": [
      "[  8.   4.   3.   4.   3.  40.  -1.   0.   1.]\n",
      "[  6.   6.   6.   9.   3.  30.   0.   3.   3.]\n",
      "[  7.   8.   8.   8.   3.  35.   0.   0.   0.]\n",
      "[  6.   1.   5.  10.   3.  30.   4.   9.   5.]\n",
      "[  4.   5.   7.   7.   2.  20.   2.   2.   0.]\n"
     ]
    }
   ],
   "source": [
    "X = imp.transform(tr_c_no_label_num) # a numpy array\n",
    "ppa(X,5) # we see that the \"filling in\" is by median indeed - here 3 in the 5th column"
   ]
  },
  {
   "cell_type": "markdown",
   "metadata": {},
   "source": [
    "note that we impute the missign values to the test set using what we have learned frim the training set"
   ]
  },
  {
   "cell_type": "code",
   "execution_count": 38,
   "metadata": {},
   "outputs": [
    {
     "name": "stdout",
     "output_type": "stream",
     "text": [
      "[  4.   3.   3.   7.   3.  20.   0.   4.   4.]\n",
      "[  7.   8.   7.   7.   3.  35.  -1.  -1.   0.]\n",
      "[  7.   4.   3.   7.   3.  35.  -1.   3.   4.]\n"
     ]
    }
   ],
   "source": [
    "Y = imp.transform(tt_c_no_label_num)\n",
    "ppa(Y,3)"
   ]
  },
  {
   "cell_type": "markdown",
   "metadata": {},
   "source": [
    "we put back our transformed data in a dataframe"
   ]
  },
  {
   "cell_type": "code",
   "execution_count": 63,
   "metadata": {},
   "outputs": [
    {
     "data": {
      "text/html": [
       "<div>\n",
       "<style>\n",
       "    .dataframe thead tr:only-child th {\n",
       "        text-align: right;\n",
       "    }\n",
       "\n",
       "    .dataframe thead th {\n",
       "        text-align: left;\n",
       "    }\n",
       "\n",
       "    .dataframe tbody tr th {\n",
       "        vertical-align: top;\n",
       "    }\n",
       "</style>\n",
       "<table border=\"1\" class=\"dataframe\">\n",
       "  <thead>\n",
       "    <tr style=\"text-align: right;\">\n",
       "      <th></th>\n",
       "      <th>ex</th>\n",
       "      <th>s1</th>\n",
       "      <th>s2</th>\n",
       "      <th>s3</th>\n",
       "      <th>r23</th>\n",
       "      <th>exx</th>\n",
       "      <th>s21</th>\n",
       "      <th>s31</th>\n",
       "      <th>s32</th>\n",
       "    </tr>\n",
       "  </thead>\n",
       "  <tbody>\n",
       "    <tr>\n",
       "      <th>12</th>\n",
       "      <td>8.0</td>\n",
       "      <td>4.0</td>\n",
       "      <td>3.0</td>\n",
       "      <td>4.0</td>\n",
       "      <td>3.0</td>\n",
       "      <td>40.0</td>\n",
       "      <td>-1.0</td>\n",
       "      <td>0.0</td>\n",
       "      <td>1.0</td>\n",
       "    </tr>\n",
       "    <tr>\n",
       "      <th>17</th>\n",
       "      <td>6.0</td>\n",
       "      <td>6.0</td>\n",
       "      <td>6.0</td>\n",
       "      <td>9.0</td>\n",
       "      <td>3.0</td>\n",
       "      <td>30.0</td>\n",
       "      <td>0.0</td>\n",
       "      <td>3.0</td>\n",
       "      <td>3.0</td>\n",
       "    </tr>\n",
       "    <tr>\n",
       "      <th>22</th>\n",
       "      <td>7.0</td>\n",
       "      <td>8.0</td>\n",
       "      <td>8.0</td>\n",
       "      <td>8.0</td>\n",
       "      <td>3.0</td>\n",
       "      <td>35.0</td>\n",
       "      <td>0.0</td>\n",
       "      <td>0.0</td>\n",
       "      <td>0.0</td>\n",
       "    </tr>\n",
       "    <tr>\n",
       "      <th>11</th>\n",
       "      <td>6.0</td>\n",
       "      <td>1.0</td>\n",
       "      <td>5.0</td>\n",
       "      <td>10.0</td>\n",
       "      <td>3.0</td>\n",
       "      <td>30.0</td>\n",
       "      <td>4.0</td>\n",
       "      <td>9.0</td>\n",
       "      <td>5.0</td>\n",
       "    </tr>\n",
       "    <tr>\n",
       "      <th>13</th>\n",
       "      <td>4.0</td>\n",
       "      <td>5.0</td>\n",
       "      <td>7.0</td>\n",
       "      <td>7.0</td>\n",
       "      <td>2.0</td>\n",
       "      <td>20.0</td>\n",
       "      <td>2.0</td>\n",
       "      <td>2.0</td>\n",
       "      <td>0.0</td>\n",
       "    </tr>\n",
       "  </tbody>\n",
       "</table>\n",
       "</div>"
      ],
      "text/plain": [
       "     ex   s1   s2    s3  r23   exx  s21  s31  s32\n",
       "12  8.0  4.0  3.0   4.0  3.0  40.0 -1.0  0.0  1.0\n",
       "17  6.0  6.0  6.0   9.0  3.0  30.0  0.0  3.0  3.0\n",
       "22  7.0  8.0  8.0   8.0  3.0  35.0  0.0  0.0  0.0\n",
       "11  6.0  1.0  5.0  10.0  3.0  30.0  4.0  9.0  5.0\n",
       "13  4.0  5.0  7.0   7.0  2.0  20.0  2.0  2.0  0.0"
      ]
     },
     "execution_count": 63,
     "metadata": {},
     "output_type": "execute_result"
    }
   ],
   "source": [
    "tr_c_no_label_num_tr = pd.DataFrame(X,columns=tr_c_no_label_num.columns,\n",
    "                                           index = list(tr_c_no_label_num.index.values))\n",
    "tr_c_no_label_num_tr.head()"
   ]
  },
  {
   "cell_type": "markdown",
   "metadata": {},
   "source": [
    "same thing for the test set"
   ]
  },
  {
   "cell_type": "code",
   "execution_count": 40,
   "metadata": {},
   "outputs": [
    {
     "data": {
      "text/html": [
       "<div>\n",
       "<style>\n",
       "    .dataframe thead tr:only-child th {\n",
       "        text-align: right;\n",
       "    }\n",
       "\n",
       "    .dataframe thead th {\n",
       "        text-align: left;\n",
       "    }\n",
       "\n",
       "    .dataframe tbody tr th {\n",
       "        vertical-align: top;\n",
       "    }\n",
       "</style>\n",
       "<table border=\"1\" class=\"dataframe\">\n",
       "  <thead>\n",
       "    <tr style=\"text-align: right;\">\n",
       "      <th></th>\n",
       "      <th>ex</th>\n",
       "      <th>s1</th>\n",
       "      <th>s2</th>\n",
       "      <th>s3</th>\n",
       "      <th>r23</th>\n",
       "      <th>exx</th>\n",
       "      <th>s21</th>\n",
       "      <th>s31</th>\n",
       "      <th>s32</th>\n",
       "    </tr>\n",
       "  </thead>\n",
       "  <tbody>\n",
       "    <tr>\n",
       "      <th>9</th>\n",
       "      <td>4.0</td>\n",
       "      <td>3.0</td>\n",
       "      <td>3.0</td>\n",
       "      <td>7.0</td>\n",
       "      <td>3.0</td>\n",
       "      <td>20.0</td>\n",
       "      <td>0.0</td>\n",
       "      <td>4.0</td>\n",
       "      <td>4.0</td>\n",
       "    </tr>\n",
       "    <tr>\n",
       "      <th>25</th>\n",
       "      <td>7.0</td>\n",
       "      <td>8.0</td>\n",
       "      <td>7.0</td>\n",
       "      <td>7.0</td>\n",
       "      <td>3.0</td>\n",
       "      <td>35.0</td>\n",
       "      <td>-1.0</td>\n",
       "      <td>-1.0</td>\n",
       "      <td>0.0</td>\n",
       "    </tr>\n",
       "    <tr>\n",
       "      <th>8</th>\n",
       "      <td>7.0</td>\n",
       "      <td>4.0</td>\n",
       "      <td>3.0</td>\n",
       "      <td>7.0</td>\n",
       "      <td>3.0</td>\n",
       "      <td>35.0</td>\n",
       "      <td>-1.0</td>\n",
       "      <td>3.0</td>\n",
       "      <td>4.0</td>\n",
       "    </tr>\n",
       "    <tr>\n",
       "      <th>21</th>\n",
       "      <td>8.0</td>\n",
       "      <td>7.0</td>\n",
       "      <td>5.0</td>\n",
       "      <td>7.0</td>\n",
       "      <td>3.0</td>\n",
       "      <td>40.0</td>\n",
       "      <td>-2.0</td>\n",
       "      <td>0.0</td>\n",
       "      <td>2.0</td>\n",
       "    </tr>\n",
       "    <tr>\n",
       "      <th>0</th>\n",
       "      <td>6.0</td>\n",
       "      <td>3.0</td>\n",
       "      <td>0.0</td>\n",
       "      <td>5.0</td>\n",
       "      <td>2.0</td>\n",
       "      <td>30.0</td>\n",
       "      <td>-3.0</td>\n",
       "      <td>2.0</td>\n",
       "      <td>5.0</td>\n",
       "    </tr>\n",
       "  </tbody>\n",
       "</table>\n",
       "</div>"
      ],
      "text/plain": [
       "     ex   s1   s2   s3  r23   exx  s21  s31  s32\n",
       "9   4.0  3.0  3.0  7.0  3.0  20.0  0.0  4.0  4.0\n",
       "25  7.0  8.0  7.0  7.0  3.0  35.0 -1.0 -1.0  0.0\n",
       "8   7.0  4.0  3.0  7.0  3.0  35.0 -1.0  3.0  4.0\n",
       "21  8.0  7.0  5.0  7.0  3.0  40.0 -2.0  0.0  2.0\n",
       "0   6.0  3.0  0.0  5.0  2.0  30.0 -3.0  2.0  5.0"
      ]
     },
     "execution_count": 40,
     "metadata": {},
     "output_type": "execute_result"
    }
   ],
   "source": [
    "tt_c_no_label_num_tr = pd.DataFrame(Y,columns=tt_c_no_label_num.columns,\n",
    "                                           index = list(tt_c_no_label_num.index.values))\n",
    "tt_c_no_label_num_tr.head()"
   ]
  },
  {
   "cell_type": "markdown",
   "metadata": {},
   "source": [
    "<h3> Select and train a model </h3>"
   ]
  },
  {
   "cell_type": "code",
   "execution_count": 61,
   "metadata": {},
   "outputs": [],
   "source": [
    "from sklearn.linear_model import LinearRegression\n",
    "lin_reg = LinearRegression() # the standard linear regressor\n",
    "lin_reg2 = LinearRegression(normalize=True) # a normalised version of linear regression"
   ]
  },
  {
   "cell_type": "code",
   "execution_count": 62,
   "metadata": {},
   "outputs": [
    {
     "data": {
      "text/plain": [
       "LinearRegression(copy_X=True, fit_intercept=True, n_jobs=1, normalize=True)"
      ]
     },
     "execution_count": 62,
     "metadata": {},
     "output_type": "execute_result"
    }
   ],
   "source": [
    "lin_reg.fit(tr_c_no_label_num_tr, tr_c_labels)\n",
    "lin_reg2.fit(tr_c_no_label_num_tr, tr_c_labels)"
   ]
  },
  {
   "cell_type": "markdown",
   "metadata": {},
   "source": [
    "<h4>ok we are good to go, the linear regressor has learned its best parameters, and we can predict now and compare with the actual values:</h4>"
   ]
  },
  {
   "cell_type": "code",
   "execution_count": 43,
   "metadata": {},
   "outputs": [
    {
     "name": "stdout",
     "output_type": "stream",
     "text": [
      "[ 7.62514481  9.00617147  8.76775554  8.8234535   9.19444173  8.0934536\n",
      "  8.72545618  9.44956088  8.31433521  8.80555827  8.53921261  8.09212167\n",
      "  8.44607282  8.59003503  8.01269633  7.82880436  8.21884382  8.36296396\n",
      "  8.26984217  8.28471263  8.55275113  8.3206646   8.67594769]\n"
     ]
    }
   ],
   "source": [
    "train_pred = lin_reg.predict(tr_c_no_label_num_tr)\n",
    "print(train_pred)\n",
    "deviation = train_pred - tr_c_labels # the total error vector, a numpy array"
   ]
  },
  {
   "cell_type": "code",
   "execution_count": 44,
   "metadata": {},
   "outputs": [
    {
     "data": {
      "text/plain": [
       "23"
      ]
     },
     "execution_count": 44,
     "metadata": {},
     "output_type": "execute_result"
    }
   ],
   "source": [
    "# train_pred.shape[0] = 23 entrees \n",
    "train_pred.shape[0]"
   ]
  },
  {
   "cell_type": "code",
   "execution_count": 45,
   "metadata": {},
   "outputs": [
    {
     "name": "stdout",
     "output_type": "stream",
     "text": [
      "Deviations:\n",
      "\n",
      "23    2.092122\n",
      "24    1.012696\n",
      "11    0.823453\n",
      "22    0.767756\n",
      "1     0.725456\n",
      "6     0.675948\n",
      "3     0.446073\n",
      "19    0.320665\n",
      "27    0.218844\n",
      "13    0.194442\n",
      "17    0.006171\n",
      "18   -0.171196\n",
      "2    -0.194442\n",
      "12   -0.374855\n",
      "14   -0.447249\n",
      "16   -0.460787\n",
      "4    -0.550439\n",
      "20   -0.637036\n",
      "5    -0.685665\n",
      "10   -0.715287\n",
      "7    -0.730158\n",
      "15   -0.906546\n",
      "26   -1.409965\n",
      "Name: d1, dtype: float64\n"
     ]
    }
   ],
   "source": [
    "print(\"Deviations:\\n\")\n",
    "print(deviation.sort_values(ascending=False))"
   ]
  },
  {
   "cell_type": "markdown",
   "metadata": {},
   "source": [
    "<h4> now we compare the prediction and actual values by hand - using again rmse and lmse</h4>"
   ]
  },
  {
   "cell_type": "markdown",
   "metadata": {},
   "source": [
    "follows bunch of scratch calculations to compute lmse and rmse by hand (to check that we are computing the right thing)"
   ]
  },
  {
   "cell_type": "code",
   "execution_count": 46,
   "metadata": {},
   "outputs": [
    {
     "data": {
      "text/plain": [
       "0.20851441405707477"
      ]
     },
     "execution_count": 46,
     "metadata": {},
     "output_type": "execute_result"
    }
   ],
   "source": [
    "y = np.sqrt(1/train_pred.shape[0])\n",
    "y # le coefficient de normalisation de la norme L2"
   ]
  },
  {
   "cell_type": "code",
   "execution_count": 47,
   "metadata": {},
   "outputs": [
    {
     "name": "stdout",
     "output_type": "stream",
     "text": [
      "Rmse =  0.771624629307\n",
      "Lmse =  0.633358725171\n"
     ]
    }
   ],
   "source": [
    "# sqrt(mean square error)\n",
    "print(\"Rmse = \", y * np.linalg.norm(deviation))\n",
    "# mean linear error\n",
    "print(\"Lmse = \", sum(abs(deviation))/train_pred.shape[0])"
   ]
  },
  {
   "cell_type": "code",
   "execution_count": 48,
   "metadata": {},
   "outputs": [
    {
     "name": "stdout",
     "output_type": "stream",
     "text": [
      "14.5672506789\n",
      "14.5672506789\n"
     ]
    }
   ],
   "source": [
    "# pour expliciter le calcul ci-dessus\n",
    "print(sum(abs(deviation)))\n",
    "res = 0\n",
    "for x in list(deviation):\n",
    "    res += abs(x)\n",
    "print(res)"
   ]
  },
  {
   "cell_type": "markdown",
   "metadata": {},
   "source": [
    "or we can compare the prediction and actual values with scikitlearn - using again rmse and lmse"
   ]
  },
  {
   "cell_type": "code",
   "execution_count": 49,
   "metadata": {},
   "outputs": [],
   "source": [
    "# on retrouve bien la meme chose en invoquant la fonction predefinie de sklearn\n",
    "from sklearn.metrics import mean_squared_error"
   ]
  },
  {
   "cell_type": "code",
   "execution_count": 50,
   "metadata": {},
   "outputs": [
    {
     "name": "stdout",
     "output_type": "stream",
     "text": [
      "Rmse = 0.771624629307\n",
      "Lmse = 0.633358725171\n"
     ]
    }
   ],
   "source": [
    "lin_mse = mean_squared_error(train_pred,tr_c_labels)\n",
    "lin_rmse = np.sqrt(lin_mse)\n",
    "print(\"Rmse =\",lin_rmse)\n",
    "from sklearn.metrics import mean_absolute_error\n",
    "lin_mae = mean_absolute_error(train_pred,tr_c_labels)\n",
    "print(\"Lmse =\",lin_mae)"
   ]
  },
  {
   "cell_type": "markdown",
   "metadata": {},
   "source": [
    "indeed we find the same!"
   ]
  },
  {
   "cell_type": "markdown",
   "metadata": {},
   "source": [
    "Using the normalised version of the predictor makes no difference:"
   ]
  },
  {
   "cell_type": "code",
   "execution_count": 52,
   "metadata": {},
   "outputs": [
    {
     "name": "stdout",
     "output_type": "stream",
     "text": [
      "[ -1.77635684e-15  -1.77635684e-15   0.00000000e+00  -1.77635684e-15\n",
      "   0.00000000e+00   0.00000000e+00   0.00000000e+00  -1.77635684e-15\n",
      "   0.00000000e+00   0.00000000e+00   0.00000000e+00  -1.77635684e-15\n",
      "   0.00000000e+00  -1.77635684e-15  -1.77635684e-15  -8.88178420e-16\n",
      "  -1.77635684e-15  -1.77635684e-15   0.00000000e+00  -1.77635684e-15\n",
      "  -1.77635684e-15   0.00000000e+00   0.00000000e+00]\n"
     ]
    }
   ],
   "source": [
    "train_pred2 = lin_reg2.predict(tr_c_no_label_num_tr)\n",
    "print(train_pred2 - train_pred)"
   ]
  },
  {
   "cell_type": "markdown",
   "metadata": {},
   "source": [
    "<h4>computing the scores of our two predictors</h4>"
   ]
  },
  {
   "cell_type": "code",
   "execution_count": 53,
   "metadata": {},
   "outputs": [
    {
     "data": {
      "text/plain": [
       "0.2280171157738583"
      ]
     },
     "execution_count": 53,
     "metadata": {},
     "output_type": "execute_result"
    }
   ],
   "source": [
    "lin_reg.score(tr_c_no_label_num_tr,tr_c_labels)"
   ]
  },
  {
   "cell_type": "code",
   "execution_count": 54,
   "metadata": {},
   "outputs": [
    {
     "data": {
      "text/plain": [
       "0.011432878398945912"
      ]
     },
     "execution_count": 54,
     "metadata": {},
     "output_type": "execute_result"
    }
   ],
   "source": [
    "lin_reg.score(tt_c_no_label_num_tr,tt_c_labels)"
   ]
  },
  {
   "cell_type": "code",
   "execution_count": 117,
   "metadata": {},
   "outputs": [
    {
     "data": {
      "text/plain": [
       "0.2280171157738583"
      ]
     },
     "execution_count": 117,
     "metadata": {},
     "output_type": "execute_result"
    }
   ],
   "source": [
    "lin_reg2.score(tr_c_no_label_num_tr,tr_c_labels)"
   ]
  },
  {
   "cell_type": "code",
   "execution_count": 56,
   "metadata": {},
   "outputs": [
    {
     "data": {
      "text/plain": [
       "0.011432878398946245"
      ]
     },
     "execution_count": 56,
     "metadata": {},
     "output_type": "execute_result"
    }
   ],
   "source": [
    "lin_reg2.score(tt_c_no_label_num_tr,tt_c_labels)"
   ]
  },
  {
   "cell_type": "markdown",
   "metadata": {},
   "source": [
    "we see that indeed the scores are the same; also the score against the train set is better because it is easier to predict what one already knows :)"
   ]
  },
  {
   "cell_type": "markdown",
   "metadata": {},
   "source": [
    "<h3> Using another predictor: decision trees </h3>"
   ]
  },
  {
   "cell_type": "code",
   "execution_count": 57,
   "metadata": {},
   "outputs": [
    {
     "data": {
      "text/plain": [
       "DecisionTreeRegressor(criterion='mse', max_depth=None, max_features=None,\n",
       "           max_leaf_nodes=None, min_impurity_decrease=0.0,\n",
       "           min_impurity_split=None, min_samples_leaf=1,\n",
       "           min_samples_split=2, min_weight_fraction_leaf=0.0,\n",
       "           presort=False, random_state=42, splitter='best')"
      ]
     },
     "execution_count": 57,
     "metadata": {},
     "output_type": "execute_result"
    }
   ],
   "source": [
    "from sklearn.tree import DecisionTreeRegressor\n",
    "\n",
    "tree_reg = DecisionTreeRegressor(random_state=42)\n",
    "tree_reg.fit(tr_c_no_label_num_tr,tr_c_labels)"
   ]
  },
  {
   "cell_type": "code",
   "execution_count": 58,
   "metadata": {},
   "outputs": [
    {
     "data": {
      "text/plain": [
       "0.0"
      ]
     },
     "execution_count": 58,
     "metadata": {},
     "output_type": "execute_result"
    }
   ],
   "source": [
    "train_pred_tree = tree_reg.predict(tr_c_no_label_num_tr)\n",
    "tree_mse = mean_squared_error(train_pred_tree,tr_c_labels)\n",
    "tree_rmse = np.sqrt(tree_mse)\n",
    "tree_rmse"
   ]
  },
  {
   "cell_type": "markdown",
   "metadata": {},
   "source": [
    "OK but ..."
   ]
  },
  {
   "cell_type": "code",
   "execution_count": 59,
   "metadata": {},
   "outputs": [
    {
     "data": {
      "text/plain": [
       "1.8973665961010275"
      ]
     },
     "execution_count": 59,
     "metadata": {},
     "output_type": "execute_result"
    }
   ],
   "source": [
    "test_pred_tree = tree_reg.predict(tt_c_no_label_num_tr)\n",
    "tree_mse = mean_squared_error(test_pred_tree,tt_c_labels)\n",
    "tree_rmse = np.sqrt(tree_mse)\n",
    "tree_rmse"
   ]
  },
  {
   "cell_type": "markdown",
   "metadata": {},
   "source": [
    "this is called \"overfitting\" - the tree model is worse than the linear regressor on the test data"
   ]
  }
 ],
 "metadata": {
  "kernelspec": {
   "display_name": "Python 3",
   "language": "python",
   "name": "python3"
  },
  "language_info": {
   "codemirror_mode": {
    "name": "ipython",
    "version": 3
   },
   "file_extension": ".py",
   "mimetype": "text/x-python",
   "name": "python",
   "nbconvert_exporter": "python",
   "pygments_lexer": "ipython3",
   "version": "3.6.4"
  },
  "nav_menu": {
   "height": "279px",
   "width": "309px"
  },
  "toc": {
   "nav_menu": {},
   "number_sections": true,
   "sideBar": true,
   "skip_h1_title": false,
   "toc_cell": false,
   "toc_position": {},
   "toc_section_display": "block",
   "toc_window_display": false
  }
 },
 "nbformat": 4,
 "nbformat_minor": 1
}
