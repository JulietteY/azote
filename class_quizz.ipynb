{
 "cells": [
  {
   "cell_type": "code",
   "execution_count": 6,
   "metadata": {},
   "outputs": [],
   "source": [
    "import pandas as pd"
   ]
  },
  {
   "cell_type": "code",
   "execution_count": 7,
   "metadata": {},
   "outputs": [],
   "source": [
    "import numpy as np"
   ]
  },
  {
   "cell_type": "code",
   "execution_count": 2,
   "metadata": {},
   "outputs": [],
   "source": [
    "datapath = \"datasets/\""
   ]
  },
  {
   "cell_type": "code",
   "execution_count": 8,
   "metadata": {},
   "outputs": [],
   "source": [
    "l1 = pd.read_csv(datapath+\"l.csv\")"
   ]
  },
  {
   "cell_type": "code",
   "execution_count": 9,
   "metadata": {},
   "outputs": [
    {
     "data": {
      "text/html": [
       "<div>\n",
       "<style>\n",
       "    .dataframe thead tr:only-child th {\n",
       "        text-align: right;\n",
       "    }\n",
       "\n",
       "    .dataframe thead th {\n",
       "        text-align: left;\n",
       "    }\n",
       "\n",
       "    .dataframe tbody tr th {\n",
       "        vertical-align: top;\n",
       "    }\n",
       "</style>\n",
       "<table border=\"1\" class=\"dataframe\">\n",
       "  <thead>\n",
       "    <tr style=\"text-align: right;\">\n",
       "      <th></th>\n",
       "      <th>name.familyName</th>\n",
       "      <th>name.givenName</th>\n",
       "      <th>primaryEmail</th>\n",
       "      <th>extraversion\n",
       "0 to 9</th>\n",
       "      <th>session 1\n",
       "test /10</th>\n",
       "      <th>session 2\n",
       "test /10</th>\n",
       "      <th>session 3\n",
       "test /10</th>\n",
       "      <th>Ressenti \n",
       "séances\n",
       "2 et 3 test /4</th>\n",
       "      <th>Devoir 1\n",
       "test /10</th>\n",
       "    </tr>\n",
       "  </thead>\n",
       "  <tbody>\n",
       "    <tr>\n",
       "      <th>0</th>\n",
       "      <td>ARNAUD BOISSEL</td>\n",
       "      <td>Candice</td>\n",
       "      <td>candice.arnaudboissel@students.cri-paris.org</td>\n",
       "      <td>6</td>\n",
       "      <td>3</td>\n",
       "      <td>NaN</td>\n",
       "      <td>5</td>\n",
       "      <td>2</td>\n",
       "      <td>8.0</td>\n",
       "    </tr>\n",
       "    <tr>\n",
       "      <th>1</th>\n",
       "      <td>BACCAINI</td>\n",
       "      <td>Lucien</td>\n",
       "      <td>lucien.baccaini@students.cri-paris.org</td>\n",
       "      <td>8</td>\n",
       "      <td>7</td>\n",
       "      <td>6.0</td>\n",
       "      <td>8</td>\n",
       "      <td>NaN</td>\n",
       "      <td>8.0</td>\n",
       "    </tr>\n",
       "    <tr>\n",
       "      <th>2</th>\n",
       "      <td>BALY</td>\n",
       "      <td>Antoinette</td>\n",
       "      <td>antoine.baly@students.cri-paris.org</td>\n",
       "      <td>8</td>\n",
       "      <td>5</td>\n",
       "      <td>5.0</td>\n",
       "      <td>6</td>\n",
       "      <td>2</td>\n",
       "      <td>9.0</td>\n",
       "    </tr>\n",
       "    <tr>\n",
       "      <th>3</th>\n",
       "      <td>BELLENGIER</td>\n",
       "      <td>Juliette</td>\n",
       "      <td>juliette.bellengier@students.cri-paris.org</td>\n",
       "      <td>7</td>\n",
       "      <td>6</td>\n",
       "      <td>6.0</td>\n",
       "      <td>7</td>\n",
       "      <td></td>\n",
       "      <td>8.0</td>\n",
       "    </tr>\n",
       "    <tr>\n",
       "      <th>4</th>\n",
       "      <td>BEN ALI</td>\n",
       "      <td>Raja</td>\n",
       "      <td>raja.benali@students.cri-paris.org</td>\n",
       "      <td>6</td>\n",
       "      <td>8</td>\n",
       "      <td>6.0</td>\n",
       "      <td>10</td>\n",
       "      <td>NaN</td>\n",
       "      <td>10.0</td>\n",
       "    </tr>\n",
       "  </tbody>\n",
       "</table>\n",
       "</div>"
      ],
      "text/plain": [
       "  name.familyName name.givenName  \\\n",
       "0  ARNAUD BOISSEL        Candice   \n",
       "1        BACCAINI         Lucien   \n",
       "2            BALY     Antoinette   \n",
       "3      BELLENGIER       Juliette   \n",
       "4         BEN ALI           Raja   \n",
       "\n",
       "                                   primaryEmail  extraversion\\n0 to 9  \\\n",
       "0  candice.arnaudboissel@students.cri-paris.org                     6   \n",
       "1        lucien.baccaini@students.cri-paris.org                     8   \n",
       "2           antoine.baly@students.cri-paris.org                     8   \n",
       "3    juliette.bellengier@students.cri-paris.org                     7   \n",
       "4            raja.benali@students.cri-paris.org                     6   \n",
       "\n",
       "   session 1\\ntest /10  session 2\\ntest /10  session 3\\ntest /10  \\\n",
       "0                    3                  NaN                    5   \n",
       "1                    7                  6.0                    8   \n",
       "2                    5                  5.0                    6   \n",
       "3                    6                  6.0                    7   \n",
       "4                    8                  6.0                   10   \n",
       "\n",
       "  Ressenti \\nséances\\n2 et 3 test /4  Devoir 1\\ntest /10  \n",
       "0                                  2                 8.0  \n",
       "1                                NaN                 8.0  \n",
       "2                                  2                 9.0  \n",
       "3                                                    8.0  \n",
       "4                                NaN                10.0  "
      ]
     },
     "execution_count": 9,
     "metadata": {},
     "output_type": "execute_result"
    }
   ],
   "source": [
    "l1.head()"
   ]
  },
  {
   "cell_type": "code",
   "execution_count": 10,
   "metadata": {},
   "outputs": [],
   "source": [
    "import matplotlib.pyplot as plt"
   ]
  },
  {
   "cell_type": "code",
   "execution_count": 11,
   "metadata": {},
   "outputs": [],
   "source": [
    "import matplotlib\n",
    "matplotlib.style.use('ggplot')"
   ]
  },
  {
   "cell_type": "markdown",
   "metadata": {},
   "source": [
    "See https://pandas.pydata.org/pandas-docs/stable/visualization.html#visualization-hist\n",
    "\n"
   ]
  },
  {
   "cell_type": "code",
   "execution_count": 12,
   "metadata": {},
   "outputs": [
    {
     "data": {
      "text/plain": [
       "<matplotlib.figure.Figure at 0x10eef6ac8>"
      ]
     },
     "execution_count": 12,
     "metadata": {},
     "output_type": "execute_result"
    }
   ],
   "source": [
    "plt.figure()"
   ]
  },
  {
   "cell_type": "code",
   "execution_count": 13,
   "metadata": {},
   "outputs": [
    {
     "name": "stdout",
     "output_type": "stream",
     "text": [
      "<class 'pandas.core.frame.DataFrame'>\n",
      "RangeIndex: 28 entries, 0 to 27\n",
      "Data columns (total 9 columns):\n",
      "name.familyName                     28 non-null object\n",
      "name.givenName                      28 non-null object\n",
      "primaryEmail                        28 non-null object\n",
      "extraversion\n",
      "0 to 9                 28 non-null int64\n",
      "session 1\n",
      "test /10                  28 non-null int64\n",
      "session 2\n",
      "test /10                  27 non-null float64\n",
      "session 3\n",
      "test /10                  28 non-null int64\n",
      "Ressenti \n",
      "séances\n",
      "2 et 3 test /4    8 non-null object\n",
      "Devoir 1\n",
      "test /10                   22 non-null float64\n",
      "dtypes: float64(2), int64(3), object(4)\n",
      "memory usage: 2.0+ KB\n"
     ]
    }
   ],
   "source": [
    "l1.info()"
   ]
  },
  {
   "cell_type": "code",
   "execution_count": 14,
   "metadata": {},
   "outputs": [
    {
     "data": {
      "text/html": [
       "<div>\n",
       "<style>\n",
       "    .dataframe thead tr:only-child th {\n",
       "        text-align: right;\n",
       "    }\n",
       "\n",
       "    .dataframe thead th {\n",
       "        text-align: left;\n",
       "    }\n",
       "\n",
       "    .dataframe tbody tr th {\n",
       "        vertical-align: top;\n",
       "    }\n",
       "</style>\n",
       "<table border=\"1\" class=\"dataframe\">\n",
       "  <thead>\n",
       "    <tr style=\"text-align: right;\">\n",
       "      <th></th>\n",
       "      <th>extraversion\n",
       "0 to 9</th>\n",
       "      <th>session 1\n",
       "test /10</th>\n",
       "      <th>session 2\n",
       "test /10</th>\n",
       "      <th>session 3\n",
       "test /10</th>\n",
       "      <th>Devoir 1\n",
       "test /10</th>\n",
       "    </tr>\n",
       "  </thead>\n",
       "  <tbody>\n",
       "    <tr>\n",
       "      <th>count</th>\n",
       "      <td>28.000000</td>\n",
       "      <td>28.000000</td>\n",
       "      <td>27.000000</td>\n",
       "      <td>28.000000</td>\n",
       "      <td>22.000000</td>\n",
       "    </tr>\n",
       "    <tr>\n",
       "      <th>mean</th>\n",
       "      <td>6.464286</td>\n",
       "      <td>5.178571</td>\n",
       "      <td>5.296296</td>\n",
       "      <td>6.857143</td>\n",
       "      <td>8.590909</td>\n",
       "    </tr>\n",
       "    <tr>\n",
       "      <th>std</th>\n",
       "      <td>1.643892</td>\n",
       "      <td>2.037674</td>\n",
       "      <td>1.612805</td>\n",
       "      <td>1.432798</td>\n",
       "      <td>0.734140</td>\n",
       "    </tr>\n",
       "    <tr>\n",
       "      <th>min</th>\n",
       "      <td>3.000000</td>\n",
       "      <td>1.000000</td>\n",
       "      <td>3.000000</td>\n",
       "      <td>4.000000</td>\n",
       "      <td>7.000000</td>\n",
       "    </tr>\n",
       "    <tr>\n",
       "      <th>25%</th>\n",
       "      <td>5.750000</td>\n",
       "      <td>3.750000</td>\n",
       "      <td>4.000000</td>\n",
       "      <td>6.000000</td>\n",
       "      <td>8.000000</td>\n",
       "    </tr>\n",
       "    <tr>\n",
       "      <th>50%</th>\n",
       "      <td>6.500000</td>\n",
       "      <td>5.500000</td>\n",
       "      <td>5.000000</td>\n",
       "      <td>7.000000</td>\n",
       "      <td>9.000000</td>\n",
       "    </tr>\n",
       "    <tr>\n",
       "      <th>75%</th>\n",
       "      <td>8.000000</td>\n",
       "      <td>7.000000</td>\n",
       "      <td>6.000000</td>\n",
       "      <td>8.000000</td>\n",
       "      <td>9.000000</td>\n",
       "    </tr>\n",
       "    <tr>\n",
       "      <th>max</th>\n",
       "      <td>10.000000</td>\n",
       "      <td>8.000000</td>\n",
       "      <td>8.000000</td>\n",
       "      <td>10.000000</td>\n",
       "      <td>10.000000</td>\n",
       "    </tr>\n",
       "  </tbody>\n",
       "</table>\n",
       "</div>"
      ],
      "text/plain": [
       "       extraversion\\n0 to 9  session 1\\ntest /10  session 2\\ntest /10  \\\n",
       "count             28.000000            28.000000            27.000000   \n",
       "mean               6.464286             5.178571             5.296296   \n",
       "std                1.643892             2.037674             1.612805   \n",
       "min                3.000000             1.000000             3.000000   \n",
       "25%                5.750000             3.750000             4.000000   \n",
       "50%                6.500000             5.500000             5.000000   \n",
       "75%                8.000000             7.000000             6.000000   \n",
       "max               10.000000             8.000000             8.000000   \n",
       "\n",
       "       session 3\\ntest /10  Devoir 1\\ntest /10  \n",
       "count            28.000000           22.000000  \n",
       "mean              6.857143            8.590909  \n",
       "std               1.432798            0.734140  \n",
       "min               4.000000            7.000000  \n",
       "25%               6.000000            8.000000  \n",
       "50%               7.000000            9.000000  \n",
       "75%               8.000000            9.000000  \n",
       "max              10.000000           10.000000  "
      ]
     },
     "execution_count": 14,
     "metadata": {},
     "output_type": "execute_result"
    }
   ],
   "source": [
    "l1.describe()"
   ]
  },
  {
   "cell_type": "markdown",
   "metadata": {},
   "source": [
    "why is the method describe only talking about the numerical columns?"
   ]
  },
  {
   "cell_type": "markdown",
   "metadata": {},
   "source": [
    "look up pandas doc to find what value_counts does"
   ]
  },
  {
   "cell_type": "code",
   "execution_count": 16,
   "metadata": {},
   "outputs": [
    {
     "data": {
      "text/plain": [
       "6    6\n",
       "3    5\n",
       "8    4\n",
       "7    4\n",
       "5    4\n",
       "4    3\n",
       "1    2\n",
       "Name: session 1\\ntest /10, dtype: int64"
      ]
     },
     "execution_count": 16,
     "metadata": {},
     "output_type": "execute_result"
    }
   ],
   "source": [
    "l1[\"session 1\\ntest /10\"].value_counts()"
   ]
  },
  {
   "cell_type": "code",
   "execution_count": 17,
   "metadata": {},
   "outputs": [
    {
     "data": {
      "text/plain": [
       "<matplotlib.axes._subplots.AxesSubplot at 0x1100750b8>"
      ]
     },
     "execution_count": 17,
     "metadata": {},
     "output_type": "execute_result"
    }
   ],
   "source": [
    "l1.plot.hist(alpha=0.5)"
   ]
  },
  {
   "cell_type": "code",
   "execution_count": 18,
   "metadata": {},
   "outputs": [
    {
     "data": {
      "text/plain": [
       "<matplotlib.figure.Figure at 0x10eef6ac8>"
      ]
     },
     "metadata": {},
     "output_type": "display_data"
    },
    {
     "data": {
      "image/png": "[encoded data removed]",
      "text/plain": [
       "<matplotlib.figure.Figure at 0x10feac940>"
      ]
     },
     "metadata": {},
     "output_type": "display_data"
    }
   ],
   "source": [
    "plt.show()"
   ]
  },
  {
   "cell_type": "code",
   "execution_count": 46,
   "metadata": {},
   "outputs": [],
   "source": [
    "l2 = pd.DataFrame({'q2': np.random.randn(28) + 5})"
   ]
  },
  {
   "cell_type": "code",
   "execution_count": 47,
   "metadata": {},
   "outputs": [
    {
     "data": {
      "text/html": [
       "<div>\n",
       "<table border=\"1\" class=\"dataframe\">\n",
       "  <thead>\n",
       "    <tr style=\"text-align: right;\">\n",
       "      <th></th>\n",
       "      <th>q2</th>\n",
       "    </tr>\n",
       "  </thead>\n",
       "  <tbody>\n",
       "    <tr>\n",
       "      <th>0</th>\n",
       "      <td>5.172701</td>\n",
       "    </tr>\n",
       "    <tr>\n",
       "      <th>1</th>\n",
       "      <td>5.891009</td>\n",
       "    </tr>\n",
       "    <tr>\n",
       "      <th>2</th>\n",
       "      <td>4.201037</td>\n",
       "    </tr>\n",
       "    <tr>\n",
       "      <th>3</th>\n",
       "      <td>5.469623</td>\n",
       "    </tr>\n",
       "    <tr>\n",
       "      <th>4</th>\n",
       "      <td>5.787805</td>\n",
       "    </tr>\n",
       "    <tr>\n",
       "      <th>5</th>\n",
       "      <td>5.239311</td>\n",
       "    </tr>\n",
       "    <tr>\n",
       "      <th>6</th>\n",
       "      <td>6.543575</td>\n",
       "    </tr>\n",
       "    <tr>\n",
       "      <th>7</th>\n",
       "      <td>3.741560</td>\n",
       "    </tr>\n",
       "    <tr>\n",
       "      <th>8</th>\n",
       "      <td>4.481486</td>\n",
       "    </tr>\n",
       "    <tr>\n",
       "      <th>9</th>\n",
       "      <td>4.148986</td>\n",
       "    </tr>\n",
       "    <tr>\n",
       "      <th>10</th>\n",
       "      <td>6.291620</td>\n",
       "    </tr>\n",
       "    <tr>\n",
       "      <th>11</th>\n",
       "      <td>5.328764</td>\n",
       "    </tr>\n",
       "    <tr>\n",
       "      <th>12</th>\n",
       "      <td>4.678421</td>\n",
       "    </tr>\n",
       "    <tr>\n",
       "      <th>13</th>\n",
       "      <td>4.412045</td>\n",
       "    </tr>\n",
       "    <tr>\n",
       "      <th>14</th>\n",
       "      <td>5.132305</td>\n",
       "    </tr>\n",
       "    <tr>\n",
       "      <th>15</th>\n",
       "      <td>5.489399</td>\n",
       "    </tr>\n",
       "    <tr>\n",
       "      <th>16</th>\n",
       "      <td>3.188625</td>\n",
       "    </tr>\n",
       "    <tr>\n",
       "      <th>17</th>\n",
       "      <td>5.452559</td>\n",
       "    </tr>\n",
       "    <tr>\n",
       "      <th>18</th>\n",
       "      <td>6.427293</td>\n",
       "    </tr>\n",
       "    <tr>\n",
       "      <th>19</th>\n",
       "      <td>6.151508</td>\n",
       "    </tr>\n",
       "    <tr>\n",
       "      <th>20</th>\n",
       "      <td>4.339821</td>\n",
       "    </tr>\n",
       "    <tr>\n",
       "      <th>21</th>\n",
       "      <td>4.628668</td>\n",
       "    </tr>\n",
       "    <tr>\n",
       "      <th>22</th>\n",
       "      <td>5.783278</td>\n",
       "    </tr>\n",
       "    <tr>\n",
       "      <th>23</th>\n",
       "      <td>5.545441</td>\n",
       "    </tr>\n",
       "    <tr>\n",
       "      <th>24</th>\n",
       "      <td>5.410282</td>\n",
       "    </tr>\n",
       "    <tr>\n",
       "      <th>25</th>\n",
       "      <td>5.251155</td>\n",
       "    </tr>\n",
       "    <tr>\n",
       "      <th>26</th>\n",
       "      <td>4.881823</td>\n",
       "    </tr>\n",
       "    <tr>\n",
       "      <th>27</th>\n",
       "      <td>2.668947</td>\n",
       "    </tr>\n",
       "  </tbody>\n",
       "</table>\n",
       "</div>"
      ],
      "text/plain": [
       "          q2\n",
       "0   5.172701\n",
       "1   5.891009\n",
       "2   4.201037\n",
       "3   5.469623\n",
       "4   5.787805\n",
       "5   5.239311\n",
       "6   6.543575\n",
       "7   3.741560\n",
       "8   4.481486\n",
       "9   4.148986\n",
       "10  6.291620\n",
       "11  5.328764\n",
       "12  4.678421\n",
       "13  4.412045\n",
       "14  5.132305\n",
       "15  5.489399\n",
       "16  3.188625\n",
       "17  5.452559\n",
       "18  6.427293\n",
       "19  6.151508\n",
       "20  4.339821\n",
       "21  4.628668\n",
       "22  5.783278\n",
       "23  5.545441\n",
       "24  5.410282\n",
       "25  5.251155\n",
       "26  4.881823\n",
       "27  2.668947"
      ]
     },
     "execution_count": 47,
     "metadata": {},
     "output_type": "execute_result"
    }
   ],
   "source": [
    "l2"
   ]
  },
  {
   "cell_type": "code",
   "execution_count": 48,
   "metadata": {},
   "outputs": [
    {
     "data": {
      "text/plain": [
       "<matplotlib.axes._subplots.AxesSubplot at 0x7fa982d9f518>"
      ]
     },
     "execution_count": 48,
     "metadata": {},
     "output_type": "execute_result"
    }
   ],
   "source": [
    "l2.plot.hist(alpha=0.8)"
   ]
  },
  {
   "cell_type": "code",
   "execution_count": 49,
   "metadata": {},
   "outputs": [
    {
     "data": {
      "image/png": "[encoded data removed]",
      "text/plain": [
       "<matplotlib.figure.Figure at 0x7fa982dc3160>"
      ]
     },
     "metadata": {},
     "output_type": "display_data"
    }
   ],
   "source": [
    "plt.show()"
   ]
  },
  {
   "cell_type": "markdown",
   "metadata": {},
   "source": [
    "https://pandas.pydata.org/pandas-docs/stable/merging.html"
   ]
  },
  {
   "cell_type": "code",
   "execution_count": 50,
   "metadata": {},
   "outputs": [],
   "source": [
    "l12 = pd.concat([l1,l2], axis=1)"
   ]
  },
  {
   "cell_type": "code",
   "execution_count": 51,
   "metadata": {},
   "outputs": [
    {
     "data": {
      "text/plain": [
       "<matplotlib.axes._subplots.AxesSubplot at 0x7fa982d93d30>"
      ]
     },
     "execution_count": 51,
     "metadata": {},
     "output_type": "execute_result"
    }
   ],
   "source": [
    "l12.plot.hist(alpha=0.5)"
   ]
  },
  {
   "cell_type": "code",
   "execution_count": 52,
   "metadata": {},
   "outputs": [
    {
     "data": {
      "image/png": "[encoded data removed]",
      "text/plain": [
       "<matplotlib.figure.Figure at 0x7fa982d22198>"
      ]
     },
     "metadata": {},
     "output_type": "display_data"
    }
   ],
   "source": [
    "plt.show()"
   ]
  },
  {
   "cell_type": "code",
   "execution_count": null,
   "metadata": {},
   "outputs": [],
   "source": []
  }
 ],
 "metadata": {
  "kernelspec": {
   "display_name": "Python 3",
   "language": "python",
   "name": "python3"
  },
  "language_info": {
   "codemirror_mode": {
    "name": "ipython",
    "version": 3
   },
   "file_extension": ".py",
   "mimetype": "text/x-python",
   "name": "python",
   "nbconvert_exporter": "python",
   "pygments_lexer": "ipython3",
   "version": "3.6.4"
  }
 },
 "nbformat": 4,
 "nbformat_minor": 2
}
