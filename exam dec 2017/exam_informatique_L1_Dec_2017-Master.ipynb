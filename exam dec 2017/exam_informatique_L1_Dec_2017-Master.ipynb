{
 "cells": [
  {
   "cell_type": "markdown",
   "metadata": {},
   "source": [
    "### Jeudi 21 Decembre - Examen Informatique de L1, 10:00-12:00"
   ]
  },
  {
   "cell_type": "markdown",
   "metadata": {},
   "source": [
    "##### Les notebook jupyter sont a deposer dans le repertoire \"Exam Dec\""
   ]
  },
  {
   "cell_type": "markdown",
   "metadata": {},
   "source": [
    "Duree de l'examen 2h - vous avez acces a tout document, internet, etc"
   ]
  },
  {
   "cell_type": "markdown",
   "metadata": {},
   "source": [
    "NB: il y a deux parties independantes, l'une sur les listes et l'autre sur les tableaux"
   ]
  },
  {
   "cell_type": "markdown",
   "metadata": {},
   "source": [
    "NB: dans le second probleme, lisez bien les commentaires qui accompagnent le code propose"
   ]
  },
  {
   "cell_type": "markdown",
   "metadata": {},
   "source": [
    "<HR><HR>"
   ]
  },
  {
   "cell_type": "markdown",
   "metadata": {},
   "source": [
    "### A. manipulations de listes"
   ]
  },
  {
   "cell_type": "markdown",
   "metadata": {},
   "source": [
    "Voici deux listes pour tester vos fonctions"
   ]
  },
  {
   "cell_type": "code",
   "execution_count": null,
   "metadata": {},
   "outputs": [],
   "source": [
    "a = [1, 2, 3, 4, 5, 6, 7, 8, 9, 10]\n",
    "b = [1, 2, 4, 9, 16, 89]"
   ]
  },
  {
   "cell_type": "markdown",
   "metadata": {},
   "source": [
    "##### A1. ecrire une fonction \"smaller_than(num,list)\" qui enleve tous les elements < \"num\" d'une liste \"list\""
   ]
  },
  {
   "cell_type": "code",
   "execution_count": null,
   "metadata": {},
   "outputs": [],
   "source": [
    "def smaller_than(num,l):\n",
    "    ...\n",
    "    return res"
   ]
  },
  {
   "cell_type": "markdown",
   "metadata": {},
   "source": [
    "##### A2. utiliser cette fonction sur les listes a et b ci-dessus, tester sur toutes les valeurs de num de 1  a 10\n",
    "pour ne pas tout tester a la main on pourra utiliser la primitive \"range()\""
   ]
  },
  {
   "cell_type": "markdown",
   "metadata": {},
   "source": [
    "##### A3. definir une fonction \"overlap(l1,l2)\" qui prend deux listes l1 et l2 en entree et retourne la liste des elements communs a l1 et l2 en sortie - (NB: il n'y a pas de contrainte particuliere sur l'ordre des elements communs)"
   ]
  },
  {
   "cell_type": "code",
   "execution_count": null,
   "metadata": {},
   "outputs": [],
   "source": [
    "def overlap(l1,l2):\n",
    "    ...\n",
    "    return res"
   ]
  },
  {
   "cell_type": "markdown",
   "metadata": {},
   "source": [
    "##### A4. tester votre fonction \"overlap\" sur a a et b definis plus haut "
   ]
  },
  {
   "cell_type": "code",
   "execution_count": null,
   "metadata": {},
   "outputs": [],
   "source": [
    "overlap(a,b)"
   ]
  },
  {
   "cell_type": "code",
   "execution_count": null,
   "metadata": {},
   "outputs": [],
   "source": [
    "overlap(b,a)"
   ]
  },
  {
   "cell_type": "markdown",
   "metadata": {},
   "source": [
    "##### A5. definir une variante overlap2 qui ne garde chaque element commun qu'en un seul exemplaire - et comparer avec list(set(overlap(a,b)))"
   ]
  },
  {
   "cell_type": "code",
   "execution_count": null,
   "metadata": {},
   "outputs": [],
   "source": [
    "def overlap2(l1,l2):\n",
    "    ...\n",
    "    return(res)"
   ]
  },
  {
   "cell_type": "code",
   "execution_count": null,
   "metadata": {},
   "outputs": [],
   "source": [
    "overlap2(a,b)"
   ]
  },
  {
   "cell_type": "markdown",
   "metadata": {},
   "source": [
    "##### A6. definir une fonction min_max(l) qui retourne les elements min et max d'une liste d'entiers l"
   ]
  },
  {
   "cell_type": "code",
   "execution_count": null,
   "metadata": {},
   "outputs": [],
   "source": [
    "def min_max(l):\n",
    "    min = 100\n",
    "    max = 0\n",
    "    ...    \n",
    "    return(min,max)"
   ]
  },
  {
   "cell_type": "markdown",
   "metadata": {},
   "source": [
    "##### A7. utiliser cette fonction sur les listes a, b et overlap(a,b) ci-dessus"
   ]
  },
  {
   "cell_type": "code",
   "execution_count": null,
   "metadata": {},
   "outputs": [],
   "source": [
    "min_max(a)"
   ]
  },
  {
   "cell_type": "code",
   "execution_count": null,
   "metadata": {},
   "outputs": [],
   "source": [
    "min_max(b)"
   ]
  },
  {
   "cell_type": "code",
   "execution_count": null,
   "metadata": {},
   "outputs": [],
   "source": [
    "min_max(overlap(a,b))"
   ]
  },
  {
   "cell_type": "markdown",
   "metadata": {},
   "source": [
    "<HR><HR>"
   ]
  },
  {
   "cell_type": "markdown",
   "metadata": {},
   "source": [
    "### B. slicing de tableaux"
   ]
  },
  {
   "cell_type": "markdown",
   "metadata": {},
   "source": [
    "consider the following two dimensional array; you can think of it as a (crude) picture - say 0 is white and 1 is black"
   ]
  },
  {
   "cell_type": "code",
   "execution_count": null,
   "metadata": {},
   "outputs": [],
   "source": [
    "A = [[0,0,0,0,0,0],\n",
    "     [0,0,0,1,0,0],\n",
    "     [0,1,0,1,0,0],\n",
    "     [0,0,1,1,0,0],\n",
    "     [0,0,0,0,0,0],\n",
    "     [0,0,0,0,0,0]]"
   ]
  },
  {
   "cell_type": "markdown",
   "metadata": {},
   "source": [
    "##### B1. ecrire une fonction ppa(array) pour \"printer\" agreablement un tableau et la tester sur Y"
   ]
  },
  {
   "cell_type": "code",
   "execution_count": null,
   "metadata": {},
   "outputs": [],
   "source": [
    "def ppa(array):\n",
    "        for i in range(0,len(array)): \n",
    "            print(array[i])"
   ]
  },
  {
   "cell_type": "code",
   "execution_count": null,
   "metadata": {},
   "outputs": [],
   "source": [
    "ppa(A)"
   ]
  },
  {
   "cell_type": "markdown",
   "metadata": {},
   "source": [
    "##### B2. convertir en un tableau numpy"
   ]
  },
  {
   "cell_type": "code",
   "execution_count": null,
   "metadata": {},
   "outputs": [],
   "source": [
    "import numpy as np"
   ]
  },
  {
   "cell_type": "code",
   "execution_count": null,
   "metadata": {},
   "outputs": [],
   "source": [
    "B = np.array(A)"
   ]
  },
  {
   "cell_type": "code",
   "execution_count": null,
   "metadata": {},
   "outputs": [],
   "source": [
    "ppa(B)"
   ]
  },
  {
   "cell_type": "markdown",
   "metadata": {},
   "source": [
    "##### B3. calculer B.shape; quelle information obtient-on sur B?"
   ]
  },
  {
   "cell_type": "code",
   "execution_count": null,
   "metadata": {},
   "outputs": [],
   "source": [
    "B.shape"
   ]
  },
  {
   "cell_type": "markdown",
   "metadata": {},
   "source": [
    "##### B4. What is this slicing operation doing?"
   ]
  },
  {
   "cell_type": "code",
   "execution_count": null,
   "metadata": {},
   "outputs": [],
   "source": [
    "D = B[1:5,1:5]\n",
    "ppa(D)\n",
    "D.shape # NB: shape returns a pair of dimensions"
   ]
  },
  {
   "cell_type": "markdown",
   "metadata": {},
   "source": [
    "##### B5. extracting sub-images: explain what is happening here"
   ]
  },
  {
   "cell_type": "code",
   "execution_count": null,
   "metadata": {},
   "outputs": [],
   "source": [
    "D[0,0] = 9 # setting the 0,0 pixel to 9\n",
    "ppa(B)"
   ]
  },
  {
   "cell_type": "code",
   "execution_count": null,
   "metadata": {},
   "outputs": [],
   "source": [
    "D[0,0] = 0 # setting back the pixel to its initial value\n",
    "ppa(B)"
   ]
  },
  {
   "cell_type": "markdown",
   "metadata": {},
   "source": [
    "##### B.6 the following function \"nn_0\" prints all triples (row index x, column index y, value of the array at x, y)\n",
    "a) run it to confirm; b) explain what the next function \"nn\" (which is a slight variant) is counting? It may help to compare B and nn(B) side-by-side!"
   ]
  },
  {
   "cell_type": "code",
   "execution_count": null,
   "metadata": {},
   "outputs": [],
   "source": [
    "def nn_0(B):\n",
    "    for (x, y), element in np.ndenumerate(B):             \n",
    "        print(x, y, element)"
   ]
  },
  {
   "cell_type": "code",
   "execution_count": null,
   "metadata": {},
   "outputs": [],
   "source": [
    "nn_0(D)"
   ]
  },
  {
   "cell_type": "code",
   "execution_count": null,
   "metadata": {},
   "outputs": [],
   "source": [
    "def nn(B):\n",
    "    x_shape, y_shape = B.shape  # retourne les dimensions de B\n",
    "    NN = np.zeros(B.shape,int)  # initialise un tableau de 0 de memes dimensions que B\n",
    "    for x in range(1,x_shape-1):\n",
    "        for y in range(1,y_shape-1):\n",
    "            NN[x][y] = B[x-1][y-1] + B[x][y-1] + B[x+1][y-1] \\\n",
    "                     + B[x-1][y]               + B[x+1][y]   \\\n",
    "                     + B[x-1][y+1] + B[x][y+1] + B[x+1][y+1]\n",
    "    return NN # what is NN counting?"
   ]
  },
  {
   "cell_type": "code",
   "execution_count": null,
   "metadata": {},
   "outputs": [],
   "source": [
    "ppa(nn(B))"
   ]
  },
  {
   "cell_type": "code",
   "execution_count": null,
   "metadata": {},
   "outputs": [],
   "source": [
    "ppa(B)"
   ]
  },
  {
   "cell_type": "markdown",
   "metadata": {},
   "source": [
    "##### B.7 we now play a game of transformation of images - read the code and explain the rules of the game"
   ]
  },
  {
   "cell_type": "code",
   "execution_count": null,
   "metadata": {},
   "outputs": [],
   "source": [
    "def transform(B): # this function describes how to update an image\n",
    "    rows,cols = B.shape\n",
    "    NN = nn(B)\n",
    "    for x in range(1,cols-1): # we select pixels that are not on the boundary\n",
    "        for y in range(1,rows-1): # idem\n",
    "            if   B[y][x] == 1 and (NN[y][x] < 2 or NN[y][x] > 3):\n",
    "                 B[y][x] = 0\n",
    "            elif B[y][x] == 0 and NN[y][x] == 3:\n",
    "                 B[y][x] = 1\n",
    "    return B"
   ]
  },
  {
   "cell_type": "markdown",
   "metadata": {},
   "source": [
    "##### B.8 Find how many many steps it takes to reach a fixed image - you can use the code below for various ranges"
   ]
  },
  {
   "cell_type": "code",
   "execution_count": null,
   "metadata": {
    "scrolled": true
   },
   "outputs": [],
   "source": [
    "for i in range(1):\n",
    "    transform(B)\n",
    "    ppa(B)\n",
    "    print(\" - \")"
   ]
  },
  {
   "cell_type": "markdown",
   "metadata": {},
   "source": [
    "##### B.9 Change the rules of the game and simulate again"
   ]
  },
  {
   "cell_type": "code",
   "execution_count": null,
   "metadata": {},
   "outputs": [],
   "source": []
  }
 ],
 "metadata": {
  "kernelspec": {
   "display_name": "Python 3",
   "language": "python",
   "name": "python3"
  },
  "language_info": {
   "codemirror_mode": {
    "name": "ipython",
    "version": 3
   },
   "file_extension": ".py",
   "mimetype": "text/x-python",
   "name": "python",
   "nbconvert_exporter": "python",
   "pygments_lexer": "ipython3",
   "version": "3.6.3"
  }
 },
 "nbformat": 4,
 "nbformat_minor": 2
}
